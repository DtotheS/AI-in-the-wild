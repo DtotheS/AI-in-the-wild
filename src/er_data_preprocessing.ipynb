{
  "nbformat": 4,
  "nbformat_minor": 0,
  "metadata": {
    "colab": {
      "provenance": [],
      "authorship_tag": "ABX9TyNIHMnGs08bNwrLd/5FAtUL",
      "include_colab_link": true
    },
    "kernelspec": {
      "name": "python3",
      "display_name": "Python 3"
    },
    "language_info": {
      "name": "python"
    }
  },
  "cells": [
    {
      "cell_type": "markdown",
      "metadata": {
        "id": "view-in-github",
        "colab_type": "text"
      },
      "source": [
        "<a href=\"https://colab.research.google.com/github/DtotheS/AI-in-the-wild/blob/main/src/er_data_preprocessing.ipynb\" target=\"_parent\"><img src=\"https://colab.research.google.com/assets/colab-badge.svg\" alt=\"Open In Colab\"/></a>"
      ]
    },
    {
      "cell_type": "code",
      "execution_count": 55,
      "metadata": {
        "id": "nvrDjID-8Vog"
      },
      "outputs": [],
      "source": [
        "import pandas as pd\n",
        "\n",
        "# Define file paths\n",
        "df21 = pd.read_excel(\"data/e2021.xlsx\")\n",
        "df22 = pd.read_excel(\"data/e2022.xlsx\")\n",
        "df23 = pd.read_excel(\"data/e2023.xlsx\")\n",
        "df24 = pd.read_excel(\"data/e2024.xlsx\")"
      ]
    },
    {
      "cell_type": "code",
      "source": [
        "df21.columns\n",
        "df21.info()"
      ],
      "metadata": {
        "colab": {
          "base_uri": "https://localhost:8080/"
        },
        "id": "vc5wksac_p58",
        "outputId": "ccc0c359-529f-4c85-f632-36ce18138885"
      },
      "execution_count": 56,
      "outputs": [
        {
          "output_type": "stream",
          "name": "stdout",
          "text": [
            "<class 'pandas.core.frame.DataFrame'>\n",
            "RangeIndex: 465 entries, 0 to 464\n",
            "Data columns (total 19 columns):\n",
            " #   Column                  Non-Null Count  Dtype  \n",
            "---  ------                  --------------  -----  \n",
            " 0   Database                465 non-null    object \n",
            " 1   Publisher               465 non-null    object \n",
            " 2   Publisher_ID            0 non-null      float64\n",
            " 3   Platform                465 non-null    object \n",
            " 4   Proprietary_ID          465 non-null    object \n",
            " 5   Metric_Type             465 non-null    object \n",
            " 6   Reporting_Period_Total  465 non-null    int64  \n",
            " 7   Jan-2021                465 non-null    int64  \n",
            " 8   Feb-2021                465 non-null    int64  \n",
            " 9   Mar-2021                465 non-null    int64  \n",
            " 10  Apr-2021                465 non-null    int64  \n",
            " 11  May-2021                465 non-null    int64  \n",
            " 12  Jun-2021                465 non-null    int64  \n",
            " 13  Jul-2021                465 non-null    int64  \n",
            " 14  Aug-2021                465 non-null    int64  \n",
            " 15  Sep-2021                465 non-null    int64  \n",
            " 16  Oct-2021                465 non-null    int64  \n",
            " 17  Nov-2021                465 non-null    int64  \n",
            " 18  Dec-2021                465 non-null    int64  \n",
            "dtypes: float64(1), int64(13), object(5)\n",
            "memory usage: 69.2+ KB\n"
          ]
        }
      ]
    },
    {
      "cell_type": "code",
      "source": [
        "df22.columns\n",
        "df22.info()"
      ],
      "metadata": {
        "colab": {
          "base_uri": "https://localhost:8080/"
        },
        "id": "NklCK8xP-8Vu",
        "outputId": "1a1a9e2f-41d9-4404-f749-fa764053362a"
      },
      "execution_count": 57,
      "outputs": [
        {
          "output_type": "stream",
          "name": "stdout",
          "text": [
            "<class 'pandas.core.frame.DataFrame'>\n",
            "RangeIndex: 433 entries, 0 to 432\n",
            "Data columns (total 19 columns):\n",
            " #   Column                  Non-Null Count  Dtype  \n",
            "---  ------                  --------------  -----  \n",
            " 0   Database                433 non-null    object \n",
            " 1   Publisher               433 non-null    object \n",
            " 2   Publisher_ID            0 non-null      float64\n",
            " 3   Platform                433 non-null    object \n",
            " 4   Proprietary_ID          433 non-null    object \n",
            " 5   Metric_Type             433 non-null    object \n",
            " 6   Reporting_Period_Total  433 non-null    int64  \n",
            " 7   Jan-2022                433 non-null    int64  \n",
            " 8   Feb-2022                433 non-null    int64  \n",
            " 9   Mar-2022                433 non-null    int64  \n",
            " 10  Apr-2022                433 non-null    int64  \n",
            " 11  May-2022                433 non-null    int64  \n",
            " 12  Jun-2022                433 non-null    int64  \n",
            " 13  Jul-2022                433 non-null    int64  \n",
            " 14  Aug-2022                433 non-null    int64  \n",
            " 15  Sep-2022                433 non-null    int64  \n",
            " 16  Oct-2022                433 non-null    int64  \n",
            " 17  Nov-2022                433 non-null    int64  \n",
            " 18  Dec-2022                433 non-null    int64  \n",
            "dtypes: float64(1), int64(13), object(5)\n",
            "memory usage: 64.4+ KB\n"
          ]
        }
      ]
    },
    {
      "cell_type": "code",
      "source": [
        "df23.columns\n",
        "df23.info()"
      ],
      "metadata": {
        "colab": {
          "base_uri": "https://localhost:8080/"
        },
        "id": "Buhle1yD_zWL",
        "outputId": "1e303984-9d1d-44b7-facf-2f71dffe64b4"
      },
      "execution_count": 58,
      "outputs": [
        {
          "output_type": "stream",
          "name": "stdout",
          "text": [
            "<class 'pandas.core.frame.DataFrame'>\n",
            "RangeIndex: 494 entries, 0 to 493\n",
            "Data columns (total 19 columns):\n",
            " #   Column                  Non-Null Count  Dtype  \n",
            "---  ------                  --------------  -----  \n",
            " 0   Database                494 non-null    object \n",
            " 1   Publisher               494 non-null    object \n",
            " 2   Publisher_ID            0 non-null      float64\n",
            " 3   Platform                494 non-null    object \n",
            " 4   Proprietary_ID          494 non-null    object \n",
            " 5   Metric_Type             494 non-null    object \n",
            " 6   Reporting_Period_Total  494 non-null    int64  \n",
            " 7   Jan-2023                494 non-null    int64  \n",
            " 8   Feb-2023                494 non-null    int64  \n",
            " 9   Mar-2023                494 non-null    int64  \n",
            " 10  Apr-2023                494 non-null    int64  \n",
            " 11  May-2023                494 non-null    int64  \n",
            " 12  Jun-2023                494 non-null    int64  \n",
            " 13  Jul-2023                494 non-null    int64  \n",
            " 14  Aug-2023                494 non-null    int64  \n",
            " 15  Sep-2023                494 non-null    int64  \n",
            " 16  Oct-2023                494 non-null    int64  \n",
            " 17  Nov-2023                494 non-null    int64  \n",
            " 18  Dec-2023                494 non-null    int64  \n",
            "dtypes: float64(1), int64(13), object(5)\n",
            "memory usage: 73.5+ KB\n"
          ]
        }
      ]
    },
    {
      "cell_type": "code",
      "source": [
        "df24.columns\n",
        "df24.info()"
      ],
      "metadata": {
        "colab": {
          "base_uri": "https://localhost:8080/"
        },
        "id": "58wOxH3__0vS",
        "outputId": "f8f6157a-50b9-48b1-fddc-e5c195a58ddc"
      },
      "execution_count": 59,
      "outputs": [
        {
          "output_type": "stream",
          "name": "stdout",
          "text": [
            "<class 'pandas.core.frame.DataFrame'>\n",
            "RangeIndex: 502 entries, 0 to 501\n",
            "Data columns (total 19 columns):\n",
            " #   Column                  Non-Null Count  Dtype  \n",
            "---  ------                  --------------  -----  \n",
            " 0   Database                502 non-null    object \n",
            " 1   Publisher               502 non-null    object \n",
            " 2   Publisher_ID            0 non-null      float64\n",
            " 3   Platform                502 non-null    object \n",
            " 4   Proprietary_ID          502 non-null    object \n",
            " 5   Metric_Type             502 non-null    object \n",
            " 6   Reporting_Period_Total  502 non-null    int64  \n",
            " 7   Jan-2024                502 non-null    int64  \n",
            " 8   Feb-2024                502 non-null    int64  \n",
            " 9   Mar-2024                502 non-null    int64  \n",
            " 10  Apr-2024                502 non-null    int64  \n",
            " 11  May-2024                502 non-null    int64  \n",
            " 12  Jun-2024                502 non-null    int64  \n",
            " 13  Jul-2024                502 non-null    int64  \n",
            " 14  Aug-2024                502 non-null    int64  \n",
            " 15  Sep-2024                502 non-null    int64  \n",
            " 16  Oct-2024                502 non-null    int64  \n",
            " 17  Nov-2024                502 non-null    int64  \n",
            " 18  Dec-2024                502 non-null    int64  \n",
            "dtypes: float64(1), int64(13), object(5)\n",
            "memory usage: 74.6+ KB\n"
          ]
        }
      ]
    },
    {
      "cell_type": "code",
      "source": [
        "# magnolia databases included in e2024 data. Manual coding\n",
        "magnolia_databases = [\n",
        "    \"Academic Search Premier\",\n",
        "    \"Agricola\",\n",
        "    \"Bibliography of Indigenous Peoples in North America\",\n",
        "    \"Biography Reference Bank (H.W. Wilson)\",\n",
        "    \"Business Source Complete\",\n",
        "    \"Computer Source\",\n",
        "    \"Consumer Health Complete\",\n",
        "    \"Educational Administration Abstracts\",\n",
        "    \"Environment Complete\",\n",
        "    \"ERIC\",\n",
        "    \"Funk & Wagnalls New World Encyclopedia\",\n",
        "    \"Garden, Landscape & Horticulture Index\",\n",
        "    \"GreenFILE\",\n",
        "    \"Health Source: Nursing/Academic Edition\",\n",
        "    \"History Reference Source\",\n",
        "    \"Hospitality & Tourism Complete\",\n",
        "    \"Humanities International Complete\",\n",
        "    \"Information Science & Technology Abstracts (ISTA)\",\n",
        "    \"Legal Collection\",\n",
        "    \"Library, Information Science & Technology Abstracts\",\n",
        "    \"Literary Reference Source\",\n",
        "    \"Middle and Junior High Core Collection (H.W. Wilson)\",\n",
        "    \"Newspaper Source\",\n",
        "    \"NoveList\",\n",
        "    \"Points of View Reference Source\",\n",
        "    \"Professional Development Collection\",\n",
        "    \"Read It!\",\n",
        "    \"Senior High Core Collection (H.W. Wilson)\",\n",
        "    \"The Serials Directory\",\n",
        "    \"Teacher Reference Center\",\n",
        "    \"TOPICsearch\",\n",
        "    \"Vocational Search and Career Collection\"\n",
        "]\n",
        "len(magnolia_databases)"
      ],
      "metadata": {
        "colab": {
          "base_uri": "https://localhost:8080/"
        },
        "id": "fVaJubWn_1b0",
        "outputId": "1728d3bf-3810-490a-ec46-ba610afce110"
      },
      "execution_count": 60,
      "outputs": [
        {
          "output_type": "execute_result",
          "data": {
            "text/plain": [
              "32"
            ]
          },
          "metadata": {},
          "execution_count": 60
        }
      ]
    },
    {
      "cell_type": "code",
      "source": [
        "df24['magnolia_db'] = df24['Database'].isin(magnolia_databases)"
      ],
      "metadata": {
        "id": "6l_uYLjPGkIG"
      },
      "execution_count": 61,
      "outputs": []
    },
    {
      "cell_type": "code",
      "source": [
        "len(df24[df24['magnolia_db'] == True]['Database'].unique())"
      ],
      "metadata": {
        "colab": {
          "base_uri": "https://localhost:8080/"
        },
        "id": "pW55QqgbHGWC",
        "outputId": "8b287c37-318c-41e7-8497-373c94d12ae8"
      },
      "execution_count": 62,
      "outputs": [
        {
          "output_type": "execute_result",
          "data": {
            "text/plain": [
              "32"
            ]
          },
          "metadata": {},
          "execution_count": 62
        }
      ]
    },
    {
      "cell_type": "code",
      "source": [
        "# Convert to sets\n",
        "set_main = set(df24['Database'])\n",
        "set_magnolia = set(magnolia_databases)\n",
        "\n",
        "# Find MAGNOLIA databases not in the main list\n",
        "missing_from_main = list(set_magnolia - set_main)\n",
        "\n",
        "print(missing_from_main)"
      ],
      "metadata": {
        "colab": {
          "base_uri": "https://localhost:8080/"
        },
        "id": "csRG3ZCJHUiA",
        "outputId": "f275c0bc-eabe-4944-87be-286bc2257275"
      },
      "execution_count": 63,
      "outputs": [
        {
          "output_type": "stream",
          "name": "stdout",
          "text": [
            "[]\n"
          ]
        }
      ]
    },
    {
      "cell_type": "code",
      "source": [
        "df23['magnolia_db'] = df23['Database'].isin(magnolia_databases)\n",
        "df22['magnolia_db'] = df22['Database'].isin(magnolia_databases)\n",
        "df21['magnolia_db'] = df21['Database'].isin(magnolia_databases)"
      ],
      "metadata": {
        "id": "X7jDL095Hleq"
      },
      "execution_count": 64,
      "outputs": []
    },
    {
      "cell_type": "code",
      "source": [
        "# Convert to sets\n",
        "set23_main = set(df23['Database'])\n",
        "set22_main = set(df22['Database'])\n",
        "set21_main = set(df21['Database'])\n",
        "\n",
        "# Find MAGNOLIA databases not in the main list\n",
        "missing23_from_main = list(set_magnolia - set23_main)\n",
        "missing22_from_main = list(set_magnolia - set22_main)\n",
        "missing21_from_main = list(set_magnolia - set21_main)\n",
        "\n",
        "print(missing23_from_main)\n",
        "print(missing22_from_main)\n",
        "print(missing21_from_main)"
      ],
      "metadata": {
        "colab": {
          "base_uri": "https://localhost:8080/"
        },
        "id": "WUO2n4H9IJFu",
        "outputId": "b854a670-dfdb-4901-a6b0-1f690d3e3789"
      },
      "execution_count": 65,
      "outputs": [
        {
          "output_type": "stream",
          "name": "stdout",
          "text": [
            "['Read It!', 'Vocational Search and Career Collection', 'History Reference Source', 'Literary Reference Source', 'Points of View Reference Source']\n",
            "['Read It!', 'Biography Reference Bank (H.W. Wilson)', 'Vocational Search and Career Collection', 'History Reference Source', 'Literary Reference Source', 'Points of View Reference Source']\n",
            "['Read It!', 'Bibliography of Indigenous Peoples in North America', 'Vocational Search and Career Collection', 'History Reference Source', 'Points of View Reference Source', 'Literary Reference Source', 'Biography Reference Bank (H.W. Wilson)']\n"
          ]
        }
      ]
    },
    {
      "cell_type": "markdown",
      "source": [
        "# Matching titles\n",
        "- Performance is not perfect."
      ],
      "metadata": {
        "id": "6H-btU1pKrrQ"
      }
    },
    {
      "cell_type": "code",
      "source": [
        "# from: https://magnolia.lib.ms.us/resources/database-list\n",
        "\n",
        "databases_list = [\n",
        "    \"Academic Search Premier\",\n",
        "    \"Academy of American Poets\",\n",
        "    \"Agricola\", # AGRICOLA\n",
        "    \"AR BookFinder\",\n",
        "    \"Bartleby.com Verse Collection\",\n",
        "    \"Ben’s Guide to the US Government\",\n",
        "    \"Bibliography of Indigenous Peoples in North America\",\n",
        "    'Biography Reference Bank (H.W. Wilson)', # \"Biography Reference Bank\",\n",
        "    \"Britannica Schools: Elementary\",\n",
        "    \"Britannica Schools: Elementary and Middle Schools\",\n",
        "    \"Britannica Schools: Fundamentals Pre-K - 2\",\n",
        "    \"Britannica Schools: Middle\",\n",
        "    \"Business Source Complete\",\n",
        "    \"Childrens Core Collection\",\n",
        "    \"Computer Source\",\n",
        "    \"Consumer Health Complete\", # Consumer Health Complete vs. Consumer Health Complete - EBSCOhost. both included in the dataset.\n",
        "    \"Cricket eBooks Collection\",\n",
        "    \"DMV Tests\",\n",
        "    \"Educational Administration Abstracts\",\n",
        "    \"Environment Complete\",\n",
        "    \"ERIC\", # ERIC (EBSCO)\n",
        "    \"Explora - Middle Schools\",\n",
        "    \"Explora - Primary Schools\",\n",
        "    \"Explora - Secondary Schools\",\n",
        "    \"Find a Book\",\n",
        "    \"Funk & Wagnalls New World Encyclopedia\",\n",
        "    'Garden, Landscape & Horticulture Index', # \"Garden, Landscape & Horticulture Literature Index\",\n",
        "    \"GreenFILE\",\n",
        "    'Health Source: Nursing/Academic Edition', #\"Health Source: Nursing & Academic Edition\",\n",
        "    \"History Reference Center\",\n",
        "    \"History Reference Source\", # manually added\n",
        "    \"Hospitality & Tourism Complete\",\n",
        "    \"Humanities International Complete\",\n",
        "    'Information Science & Technology Abstracts (ISTA)', # \"Information Science & Technology Abstracts\",\n",
        "    \"Internet Public Library\",\n",
        "    \"LearningExpress Library\",\n",
        "    \"Legal Collection\",\n",
        "    'Library, Information Science & Technology Abstracts', #\"Library, Information Science & Technology Abstracts (LISTA)\",\n",
        "    \"Library of Congress\",\n",
        "    \"Literary Reference Center\",\n",
        "    \"Literary Reference Source\", # manually added\n",
        "    \"Middle and Junior High Core Collection (H.W. Wilson)\",\n",
        "    \"Mississippi Digital Library\",\n",
        "    \"Mississippi Encyclopedia\",\n",
        "    \"My Shakespeare\",\n",
        "    \"NASA Kids’ Club\",\n",
        "    \"National Archives\",\n",
        "    \"Newspaper Source\",\n",
        "    \"NoveList\",\n",
        "    \"Novelist K8\",\n",
        "    \"Points of View Reference Center\",\n",
        "    \"Points of View Reference Source\", # Manually added\n",
        "    \"Professional Development Collection\",\n",
        "    \"Purdue Online Writing Lab\",\n",
        "    'Read It!', #\"Read IT\",\n",
        "    \"Science News for Students\",\n",
        "    \"Senior High Core Collection (H.W. Wilson)\",\n",
        "    'The Serials Directory', #\"Serials Directory\",\n",
        "    \"Teacher Reference Center\",\n",
        "    \"Teacher Reference Source\", # Manually added\n",
        "    \"TOPICsearch\",\n",
        "    'Vocational Search and Career Collection', #\"Vocational & Career Collection\",\n",
        "    \"Worldcat Discovery Service\"\n",
        "]\n",
        "len(databases_list)"
      ],
      "metadata": {
        "colab": {
          "base_uri": "https://localhost:8080/"
        },
        "id": "MzEHUs1MIM2r",
        "outputId": "c9f4870c-e5c9-4727-d201-7e0df7777c82"
      },
      "execution_count": 66,
      "outputs": [
        {
          "output_type": "execute_result",
          "data": {
            "text/plain": [
              "63"
            ]
          },
          "metadata": {},
          "execution_count": 66
        }
      ]
    },
    {
      "cell_type": "code",
      "source": [
        "set_magnolia - set(databases_list)"
      ],
      "metadata": {
        "colab": {
          "base_uri": "https://localhost:8080/"
        },
        "id": "2cDgE6JIPhjA",
        "outputId": "41c55d19-e54b-47a9-e753-074c07f317a4"
      },
      "execution_count": 67,
      "outputs": [
        {
          "output_type": "execute_result",
          "data": {
            "text/plain": [
              "set()"
            ]
          },
          "metadata": {},
          "execution_count": 67
        }
      ]
    },
    {
      "cell_type": "code",
      "source": [
        "from fuzzywuzzy import process\n",
        "\n",
        "# Define a function to get the best match\n",
        "# threshold findtuning done!!\n",
        "def match_title(title, choices, threshold=92):\n",
        "    match, score = process.extractOne(title, choices) # give the matched choise from the list\n",
        "    return match if score >= threshold else title"
      ],
      "metadata": {
        "id": "GyJH0rg9N1b_"
      },
      "execution_count": 68,
      "outputs": []
    },
    {
      "cell_type": "code",
      "source": [
        "# Apply fuzzy matching\n",
        "df24['matched_database'] = df24['Database'].apply(lambda x: match_title(x, databases_list))\n",
        "\n",
        "# Create magnolia_db column: True if matched_database is in the reference list\n",
        "df24['magnolia_db'] = df24['matched_database'].isin(databases_list)"
      ],
      "metadata": {
        "id": "_et943JdJ9Cm"
      },
      "execution_count": 69,
      "outputs": []
    },
    {
      "cell_type": "code",
      "source": [
        "df24['matched_database'].isin(databases_list)"
      ],
      "metadata": {
        "id": "R4JSXeh7qEz4",
        "colab": {
          "base_uri": "https://localhost:8080/"
        },
        "outputId": "dd071d7c-03f1-4665-c77f-0987b10f24f0"
      },
      "execution_count": 70,
      "outputs": [
        {
          "output_type": "execute_result",
          "data": {
            "text/plain": [
              "0      False\n",
              "1      False\n",
              "2      False\n",
              "3      False\n",
              "4      False\n",
              "       ...  \n",
              "497    False\n",
              "498    False\n",
              "499    False\n",
              "500    False\n",
              "501    False\n",
              "Name: matched_database, Length: 502, dtype: bool"
            ]
          },
          "metadata": {},
          "execution_count": 70
        }
      ]
    },
    {
      "cell_type": "code",
      "source": [
        "matched_df24 = df24[df24['magnolia_db']==True]\n",
        "len(matched_df24['Database'].unique())"
      ],
      "metadata": {
        "colab": {
          "base_uri": "https://localhost:8080/"
        },
        "id": "3cRVC5HAKKzH",
        "outputId": "37edd965-e4ca-47cd-c902-2973b9617ca2"
      },
      "execution_count": 71,
      "outputs": [
        {
          "output_type": "execute_result",
          "data": {
            "text/plain": [
              "32"
            ]
          },
          "metadata": {},
          "execution_count": 71
        }
      ]
    },
    {
      "cell_type": "markdown",
      "source": [
        "- threshold fintuning of 92 gives the perfect match"
      ],
      "metadata": {
        "id": "64N6Ht6pRaB1"
      }
    },
    {
      "cell_type": "code",
      "source": [
        "set_magnolia - set(matched_df24['Database'].unique())"
      ],
      "metadata": {
        "colab": {
          "base_uri": "https://localhost:8080/"
        },
        "id": "yIlYLP0MLvGx",
        "outputId": "88533cd1-22b0-4a5a-b897-58b8181d9f2a"
      },
      "execution_count": 72,
      "outputs": [
        {
          "output_type": "execute_result",
          "data": {
            "text/plain": [
              "set()"
            ]
          },
          "metadata": {},
          "execution_count": 72
        }
      ]
    },
    {
      "cell_type": "code",
      "source": [
        "df23['matched_database'] = df23['Database'].apply(lambda x: match_title(x, databases_list))\n",
        "df22['matched_database'] = df22['Database'].apply(lambda x: match_title(x, databases_list))\n",
        "df21['matched_database'] = df21['Database'].apply(lambda x: match_title(x, databases_list))\n",
        "\n",
        "df23['magnolia_db'] = df23['matched_database'].isin(databases_list)\n",
        "df22['magnolia_db'] = df22['matched_database'].isin(databases_list)\n",
        "df21['magnolia_db'] = df21['matched_database'].isin(databases_list)"
      ],
      "metadata": {
        "id": "kAkoRM0RKxgz"
      },
      "execution_count": 73,
      "outputs": []
    },
    {
      "cell_type": "code",
      "source": [
        "df21.drop(columns=['Publisher_ID'], inplace=True)\n",
        "df22.drop(columns=['Publisher_ID'], inplace=True)\n",
        "df23.drop(columns=['Publisher_ID'], inplace=True)\n",
        "df24.drop(columns=['Publisher_ID'], inplace=True)"
      ],
      "metadata": {
        "id": "oQGeLJz6EPzP"
      },
      "execution_count": 74,
      "outputs": []
    },
    {
      "cell_type": "code",
      "source": [
        "matched_df23 = df23[df23['magnolia_db'] == True]\n",
        "len(matched_df23['Database'].unique())"
      ],
      "metadata": {
        "colab": {
          "base_uri": "https://localhost:8080/"
        },
        "id": "7ucnuv1SK1Tb",
        "outputId": "ef61e8a2-02b4-4909-e1a2-0eda736f7827"
      },
      "execution_count": 75,
      "outputs": [
        {
          "output_type": "execute_result",
          "data": {
            "text/plain": [
              "32"
            ]
          },
          "metadata": {},
          "execution_count": 75
        }
      ]
    },
    {
      "cell_type": "code",
      "source": [
        "matched_df23['matched_database'].unique()"
      ],
      "metadata": {
        "colab": {
          "base_uri": "https://localhost:8080/"
        },
        "id": "YWi_EO1dmdhx",
        "outputId": "148c49fa-274b-4a99-b7e3-80cc40332d37"
      },
      "execution_count": 76,
      "outputs": [
        {
          "output_type": "execute_result",
          "data": {
            "text/plain": [
              "array(['Academic Search Premier', 'Agricola',\n",
              "       'Bibliography of Indigenous Peoples in North America',\n",
              "       'Biography Reference Bank (H.W. Wilson)',\n",
              "       'Business Source Complete', 'Computer Source',\n",
              "       'Consumer Health Complete', 'ERIC',\n",
              "       'Educational Administration Abstracts', 'Environment Complete',\n",
              "       'Funk & Wagnalls New World Encyclopedia',\n",
              "       'Garden, Landscape & Horticulture Index', 'GreenFILE',\n",
              "       'Health Source: Nursing/Academic Edition',\n",
              "       'History Reference Center', 'Hospitality & Tourism Complete',\n",
              "       'Humanities International Complete',\n",
              "       'Information Science & Technology Abstracts (ISTA)',\n",
              "       'Legal Collection',\n",
              "       'Library, Information Science & Technology Abstracts',\n",
              "       'Literary Reference Center',\n",
              "       'Middle and Junior High Core Collection (H.W. Wilson)',\n",
              "       'Newspaper Source', 'NoveList', 'Novelist K8',\n",
              "       'Points of View Reference Center',\n",
              "       'Professional Development Collection',\n",
              "       'Senior High Core Collection (H.W. Wilson)', 'TOPICsearch',\n",
              "       'Teacher Reference Center', 'The Serials Directory',\n",
              "       'Vocational Search and Career Collection'], dtype=object)"
            ]
          },
          "metadata": {},
          "execution_count": 76
        }
      ]
    },
    {
      "cell_type": "code",
      "source": [
        "set_magnolia"
      ],
      "metadata": {
        "colab": {
          "base_uri": "https://localhost:8080/"
        },
        "id": "TnIiph5cnLwr",
        "outputId": "f4ca74a4-fc55-4a16-a6a1-c9c4a164f90b"
      },
      "execution_count": 77,
      "outputs": [
        {
          "output_type": "execute_result",
          "data": {
            "text/plain": [
              "{'Academic Search Premier',\n",
              " 'Agricola',\n",
              " 'Bibliography of Indigenous Peoples in North America',\n",
              " 'Biography Reference Bank (H.W. Wilson)',\n",
              " 'Business Source Complete',\n",
              " 'Computer Source',\n",
              " 'Consumer Health Complete',\n",
              " 'ERIC',\n",
              " 'Educational Administration Abstracts',\n",
              " 'Environment Complete',\n",
              " 'Funk & Wagnalls New World Encyclopedia',\n",
              " 'Garden, Landscape & Horticulture Index',\n",
              " 'GreenFILE',\n",
              " 'Health Source: Nursing/Academic Edition',\n",
              " 'History Reference Source',\n",
              " 'Hospitality & Tourism Complete',\n",
              " 'Humanities International Complete',\n",
              " 'Information Science & Technology Abstracts (ISTA)',\n",
              " 'Legal Collection',\n",
              " 'Library, Information Science & Technology Abstracts',\n",
              " 'Literary Reference Source',\n",
              " 'Middle and Junior High Core Collection (H.W. Wilson)',\n",
              " 'Newspaper Source',\n",
              " 'NoveList',\n",
              " 'Points of View Reference Source',\n",
              " 'Professional Development Collection',\n",
              " 'Read It!',\n",
              " 'Senior High Core Collection (H.W. Wilson)',\n",
              " 'TOPICsearch',\n",
              " 'Teacher Reference Center',\n",
              " 'The Serials Directory',\n",
              " 'Vocational Search and Career Collection'}"
            ]
          },
          "metadata": {},
          "execution_count": 77
        }
      ]
    },
    {
      "cell_type": "code",
      "source": [
        "set_magnolia - set(matched_df23['Database'].unique())"
      ],
      "metadata": {
        "colab": {
          "base_uri": "https://localhost:8080/"
        },
        "id": "1kUF0QpEK7PO",
        "outputId": "16d3e3c2-8172-4b9b-bf40-9c00ac3d8f84"
      },
      "execution_count": 78,
      "outputs": [
        {
          "output_type": "execute_result",
          "data": {
            "text/plain": [
              "{'History Reference Source',\n",
              " 'Literary Reference Source',\n",
              " 'Points of View Reference Source',\n",
              " 'Read It!',\n",
              " 'Vocational Search and Career Collection'}"
            ]
          },
          "metadata": {},
          "execution_count": 78
        }
      ]
    },
    {
      "cell_type": "code",
      "source": [
        "set(matched_df23['Database'].unique()) - set_magnolia"
      ],
      "metadata": {
        "colab": {
          "base_uri": "https://localhost:8080/"
        },
        "id": "BLPjdcLhLEIS",
        "outputId": "ec153f39-03ae-4037-8b22-9bc89736170f"
      },
      "execution_count": 79,
      "outputs": [
        {
          "output_type": "execute_result",
          "data": {
            "text/plain": [
              "{'History Reference Center',\n",
              " 'Literary Reference Center',\n",
              " 'NoveList K-8',\n",
              " 'Points of View Reference Center',\n",
              " 'Vocational and Career Collection'}"
            ]
          },
          "metadata": {},
          "execution_count": 79
        }
      ]
    },
    {
      "cell_type": "markdown",
      "source": [
        "# Column name change"
      ],
      "metadata": {
        "id": "BTFELugt8ejh"
      }
    },
    {
      "cell_type": "code",
      "source": [
        "df24.info()"
      ],
      "metadata": {
        "colab": {
          "base_uri": "https://localhost:8080/"
        },
        "id": "4N6Fkpw0CsD6",
        "outputId": "833f1bbd-e597-4e5f-9c6a-540a77776797"
      },
      "execution_count": 80,
      "outputs": [
        {
          "output_type": "stream",
          "name": "stdout",
          "text": [
            "<class 'pandas.core.frame.DataFrame'>\n",
            "RangeIndex: 502 entries, 0 to 501\n",
            "Data columns (total 20 columns):\n",
            " #   Column                  Non-Null Count  Dtype \n",
            "---  ------                  --------------  ----- \n",
            " 0   Database                502 non-null    object\n",
            " 1   Publisher               502 non-null    object\n",
            " 2   Platform                502 non-null    object\n",
            " 3   Proprietary_ID          502 non-null    object\n",
            " 4   Metric_Type             502 non-null    object\n",
            " 5   Reporting_Period_Total  502 non-null    int64 \n",
            " 6   Jan-2024                502 non-null    int64 \n",
            " 7   Feb-2024                502 non-null    int64 \n",
            " 8   Mar-2024                502 non-null    int64 \n",
            " 9   Apr-2024                502 non-null    int64 \n",
            " 10  May-2024                502 non-null    int64 \n",
            " 11  Jun-2024                502 non-null    int64 \n",
            " 12  Jul-2024                502 non-null    int64 \n",
            " 13  Aug-2024                502 non-null    int64 \n",
            " 14  Sep-2024                502 non-null    int64 \n",
            " 15  Oct-2024                502 non-null    int64 \n",
            " 16  Nov-2024                502 non-null    int64 \n",
            " 17  Dec-2024                502 non-null    int64 \n",
            " 18  magnolia_db             502 non-null    bool  \n",
            " 19  matched_database        502 non-null    object\n",
            "dtypes: bool(1), int64(13), object(6)\n",
            "memory usage: 75.1+ KB\n"
          ]
        }
      ]
    },
    {
      "cell_type": "code",
      "source": [
        "# Define rename maps for each year\n",
        "month_rename_2024 = {\n",
        "    'Jan-2024': 'Jan', 'Feb-2024': 'Feb', 'Mar-2024': 'Mar', 'Apr-2024': 'Apr',\n",
        "    'May-2024': 'May', 'Jun-2024': 'Jun', 'Jul-2024': 'Jul', 'Aug-2024': 'Aug',\n",
        "    'Sep-2024': 'Sep', 'Oct-2024': 'Oct', 'Nov-2024': 'Nov', 'Dec-2024': 'Dec'\n",
        "}\n",
        "\n",
        "month_rename_2023 = {\n",
        "    'Jan-2023': 'Jan', 'Feb-2023': 'Feb', 'Mar-2023': 'Mar', 'Apr-2023': 'Apr',\n",
        "    'May-2023': 'May', 'Jun-2023': 'Jun', 'Jul-2023': 'Jul', 'Aug-2023': 'Aug',\n",
        "    'Sep-2023': 'Sep', 'Oct-2023': 'Oct', 'Nov-2023': 'Nov', 'Dec-2023': 'Dec'\n",
        "}\n",
        "\n",
        "month_rename_2022 = {\n",
        "    'Jan-2022': 'Jan', 'Feb-2022': 'Feb', 'Mar-2022': 'Mar', 'Apr-2022': 'Apr',\n",
        "    'May-2022': 'May', 'Jun-2022': 'Jun', 'Jul-2022': 'Jul', 'Aug-2022': 'Aug',\n",
        "    'Sep-2022': 'Sep', 'Oct-2022': 'Oct', 'Nov-2022': 'Nov', 'Dec-2022': 'Dec'\n",
        "}\n",
        "\n",
        "month_rename_2021 = {\n",
        "    'Jan-2021': 'Jan', 'Feb-2021': 'Feb', 'Mar-2021': 'Mar', 'Apr-2021': 'Apr',\n",
        "    'May-2021': 'May', 'Jun-2021': 'Jun', 'Jul-2021': 'Jul', 'Aug-2021': 'Aug',\n",
        "    'Sep-2021': 'Sep', 'Oct-2021': 'Oct', 'Nov-2021': 'Nov', 'Dec-2021': 'Dec'\n",
        "}\n",
        "\n",
        "df21.rename(columns=month_rename_2021, inplace=True)\n",
        "df22.rename(columns=month_rename_2022, inplace=True)\n",
        "df23.rename(columns=month_rename_2023, inplace=True)\n",
        "df24.rename(columns=month_rename_2024, inplace=True)"
      ],
      "metadata": {
        "id": "U8oKlOi6E5m3"
      },
      "execution_count": 81,
      "outputs": []
    },
    {
      "cell_type": "code",
      "source": [
        "df22.info()"
      ],
      "metadata": {
        "colab": {
          "base_uri": "https://localhost:8080/"
        },
        "id": "KSzGVDg9FE_1",
        "outputId": "0e8c608d-90b6-4532-db89-fa5e31f9b7d2"
      },
      "execution_count": 82,
      "outputs": [
        {
          "output_type": "stream",
          "name": "stdout",
          "text": [
            "<class 'pandas.core.frame.DataFrame'>\n",
            "RangeIndex: 433 entries, 0 to 432\n",
            "Data columns (total 20 columns):\n",
            " #   Column                  Non-Null Count  Dtype \n",
            "---  ------                  --------------  ----- \n",
            " 0   Database                433 non-null    object\n",
            " 1   Publisher               433 non-null    object\n",
            " 2   Platform                433 non-null    object\n",
            " 3   Proprietary_ID          433 non-null    object\n",
            " 4   Metric_Type             433 non-null    object\n",
            " 5   Reporting_Period_Total  433 non-null    int64 \n",
            " 6   Jan                     433 non-null    int64 \n",
            " 7   Feb                     433 non-null    int64 \n",
            " 8   Mar                     433 non-null    int64 \n",
            " 9   Apr                     433 non-null    int64 \n",
            " 10  May                     433 non-null    int64 \n",
            " 11  Jun                     433 non-null    int64 \n",
            " 12  Jul                     433 non-null    int64 \n",
            " 13  Aug                     433 non-null    int64 \n",
            " 14  Sep                     433 non-null    int64 \n",
            " 15  Oct                     433 non-null    int64 \n",
            " 16  Nov                     433 non-null    int64 \n",
            " 17  Dec                     433 non-null    int64 \n",
            " 18  magnolia_db             433 non-null    bool  \n",
            " 19  matched_database        433 non-null    object\n",
            "dtypes: bool(1), int64(13), object(6)\n",
            "memory usage: 64.8+ KB\n"
          ]
        }
      ]
    },
    {
      "cell_type": "markdown",
      "source": [
        "# MALC and A&I"
      ],
      "metadata": {
        "id": "UZ5Gj094V8XQ"
      }
    },
    {
      "cell_type": "code",
      "source": [
        "malc = pd.read_excel(\"./data/EBSCOmalc.xlsx\")"
      ],
      "metadata": {
        "id": "C-FWcpNVWaDc"
      },
      "execution_count": 83,
      "outputs": []
    },
    {
      "cell_type": "code",
      "source": [
        "malc"
      ],
      "metadata": {
        "colab": {
          "base_uri": "https://localhost:8080/",
          "height": 645
        },
        "id": "Xnq8-EDBW1Oz",
        "outputId": "9e19e3bb-66e4-4e77-c4d8-3c9f74c1fce9"
      },
      "execution_count": 84,
      "outputs": [
        {
          "output_type": "execute_result",
          "data": {
            "text/plain": [
              "                                        Database Name  Proprietary_ID  \\\n",
              "0                             America: History & Life   EBSCOhost:ahl   \n",
              "1            America: History and Life with Full Text   EBSCOhost:31h   \n",
              "2                         Art & Architecture Complete   EBSCOhost:vth   \n",
              "3                          CINAHL Plus with Full Text   EBSCOhost:rzh   \n",
              "4                 Communication & Mass Media Complete   EBSCOhost:ufh   \n",
              "5                                            EconLit    EBSCOhost:ecn   \n",
              "6                                              GeoRef   EBSCOhost:geh   \n",
              "7                                   GeoRef In Process   EBSCOhost:guh   \n",
              "8                                Historical Abstracts   EBSCOhost:hia   \n",
              "9                 Historical Abstracts with Full Text   EBSCOhost:30h   \n",
              "10                                             Inspec   EBSCOhost:inh   \n",
              "11  Library Literature & Information Science Full ...   EBSCOhost:llf   \n",
              "12   Mental Measurements Yearbook with Tests in Print   EBSCOhost:mmt   \n",
              "13                     MLA International Bibliography   EBSCOhost:mzh   \n",
              "14                                 Philosophers Index   EBSCOhost:phl   \n",
              "15                         Political Science Complete   EBSCOhost:poh   \n",
              "16                                       PsycArticles   EBSCOhost:pdh   \n",
              "17                                           PsycINFO  EBSCOhost:psyh   \n",
              "18                 RILM Abstracts of Music Literature   EBSCOhost:ram   \n",
              "\n",
              "    abstract_index  \n",
              "0             True  \n",
              "1            False  \n",
              "2            False  \n",
              "3            False  \n",
              "4            False  \n",
              "5             True  \n",
              "6             True  \n",
              "7             True  \n",
              "8             True  \n",
              "9            False  \n",
              "10            True  \n",
              "11           False  \n",
              "12            True  \n",
              "13            True  \n",
              "14            True  \n",
              "15           False  \n",
              "16           False  \n",
              "17            True  \n",
              "18            True  "
            ],
            "text/html": [
              "<div>\n",
              "<style scoped>\n",
              "    .dataframe tbody tr th:only-of-type {\n",
              "        vertical-align: middle;\n",
              "    }\n",
              "\n",
              "    .dataframe tbody tr th {\n",
              "        vertical-align: top;\n",
              "    }\n",
              "\n",
              "    .dataframe thead th {\n",
              "        text-align: right;\n",
              "    }\n",
              "</style>\n",
              "<table border=\"1\" class=\"dataframe\">\n",
              "  <thead>\n",
              "    <tr style=\"text-align: right;\">\n",
              "      <th></th>\n",
              "      <th>Database Name</th>\n",
              "      <th>Proprietary_ID</th>\n",
              "      <th>abstract_index</th>\n",
              "    </tr>\n",
              "  </thead>\n",
              "  <tbody>\n",
              "    <tr>\n",
              "      <th>0</th>\n",
              "      <td>America: History &amp; Life</td>\n",
              "      <td>EBSCOhost:ahl</td>\n",
              "      <td>True</td>\n",
              "    </tr>\n",
              "    <tr>\n",
              "      <th>1</th>\n",
              "      <td>America: History and Life with Full Text</td>\n",
              "      <td>EBSCOhost:31h</td>\n",
              "      <td>False</td>\n",
              "    </tr>\n",
              "    <tr>\n",
              "      <th>2</th>\n",
              "      <td>Art &amp; Architecture Complete</td>\n",
              "      <td>EBSCOhost:vth</td>\n",
              "      <td>False</td>\n",
              "    </tr>\n",
              "    <tr>\n",
              "      <th>3</th>\n",
              "      <td>CINAHL Plus with Full Text</td>\n",
              "      <td>EBSCOhost:rzh</td>\n",
              "      <td>False</td>\n",
              "    </tr>\n",
              "    <tr>\n",
              "      <th>4</th>\n",
              "      <td>Communication &amp; Mass Media Complete</td>\n",
              "      <td>EBSCOhost:ufh</td>\n",
              "      <td>False</td>\n",
              "    </tr>\n",
              "    <tr>\n",
              "      <th>5</th>\n",
              "      <td>EconLit</td>\n",
              "      <td>EBSCOhost:ecn</td>\n",
              "      <td>True</td>\n",
              "    </tr>\n",
              "    <tr>\n",
              "      <th>6</th>\n",
              "      <td>GeoRef</td>\n",
              "      <td>EBSCOhost:geh</td>\n",
              "      <td>True</td>\n",
              "    </tr>\n",
              "    <tr>\n",
              "      <th>7</th>\n",
              "      <td>GeoRef In Process</td>\n",
              "      <td>EBSCOhost:guh</td>\n",
              "      <td>True</td>\n",
              "    </tr>\n",
              "    <tr>\n",
              "      <th>8</th>\n",
              "      <td>Historical Abstracts</td>\n",
              "      <td>EBSCOhost:hia</td>\n",
              "      <td>True</td>\n",
              "    </tr>\n",
              "    <tr>\n",
              "      <th>9</th>\n",
              "      <td>Historical Abstracts with Full Text</td>\n",
              "      <td>EBSCOhost:30h</td>\n",
              "      <td>False</td>\n",
              "    </tr>\n",
              "    <tr>\n",
              "      <th>10</th>\n",
              "      <td>Inspec</td>\n",
              "      <td>EBSCOhost:inh</td>\n",
              "      <td>True</td>\n",
              "    </tr>\n",
              "    <tr>\n",
              "      <th>11</th>\n",
              "      <td>Library Literature &amp; Information Science Full ...</td>\n",
              "      <td>EBSCOhost:llf</td>\n",
              "      <td>False</td>\n",
              "    </tr>\n",
              "    <tr>\n",
              "      <th>12</th>\n",
              "      <td>Mental Measurements Yearbook with Tests in Print</td>\n",
              "      <td>EBSCOhost:mmt</td>\n",
              "      <td>True</td>\n",
              "    </tr>\n",
              "    <tr>\n",
              "      <th>13</th>\n",
              "      <td>MLA International Bibliography</td>\n",
              "      <td>EBSCOhost:mzh</td>\n",
              "      <td>True</td>\n",
              "    </tr>\n",
              "    <tr>\n",
              "      <th>14</th>\n",
              "      <td>Philosophers Index</td>\n",
              "      <td>EBSCOhost:phl</td>\n",
              "      <td>True</td>\n",
              "    </tr>\n",
              "    <tr>\n",
              "      <th>15</th>\n",
              "      <td>Political Science Complete</td>\n",
              "      <td>EBSCOhost:poh</td>\n",
              "      <td>False</td>\n",
              "    </tr>\n",
              "    <tr>\n",
              "      <th>16</th>\n",
              "      <td>PsycArticles</td>\n",
              "      <td>EBSCOhost:pdh</td>\n",
              "      <td>False</td>\n",
              "    </tr>\n",
              "    <tr>\n",
              "      <th>17</th>\n",
              "      <td>PsycINFO</td>\n",
              "      <td>EBSCOhost:psyh</td>\n",
              "      <td>True</td>\n",
              "    </tr>\n",
              "    <tr>\n",
              "      <th>18</th>\n",
              "      <td>RILM Abstracts of Music Literature</td>\n",
              "      <td>EBSCOhost:ram</td>\n",
              "      <td>True</td>\n",
              "    </tr>\n",
              "  </tbody>\n",
              "</table>\n",
              "</div>"
            ]
          },
          "metadata": {},
          "execution_count": 84
        }
      ]
    },
    {
      "cell_type": "code",
      "source": [
        "# Clean malc column names and ensure types\n",
        "malc.columns = malc.columns.str.strip()  # remove any whitespace\n",
        "malc['Proprietary_ID'] = malc['Proprietary_ID'].astype(str)\n",
        "\n",
        "# Loop over each DataFrame and perform matching and merging\n",
        "for df in [df21, df22, df23, df24]:\n",
        "    df['Proprietary_ID'] = df['Proprietary_ID'].astype(str)\n",
        "\n",
        "    # Create boolean 'malc' column indicating match\n",
        "    df['malc'] = df['Proprietary_ID'].isin(malc['Proprietary_ID'])\n",
        "\n",
        "    # Merge to get 'abstract_index' from malc\n",
        "    merged = df.merge(\n",
        "        malc[['Proprietary_ID', 'abstract_index']],\n",
        "        on='Proprietary_ID',\n",
        "        how='left'\n",
        "    )\n",
        "\n",
        "    # Assign 'abstract_index' to the original df\n",
        "    df['abstract_index'] = merged['abstract_index']"
      ],
      "metadata": {
        "id": "Z8aDN0bXlMBC"
      },
      "execution_count": 85,
      "outputs": []
    },
    {
      "cell_type": "code",
      "source": [
        "print(len(df21[df21['malc'] == True]['Proprietary_ID'].unique()),\n",
        "len(df22[df22['malc'] == True]['Proprietary_ID'].unique()),\n",
        "len(df23[df23['malc'] == True]['Proprietary_ID'].unique()),\n",
        "len(df24[df24['malc'] == True]['Proprietary_ID'].unique()))"
      ],
      "metadata": {
        "colab": {
          "base_uri": "https://localhost:8080/"
        },
        "id": "6p0Zr6Q4lSI7",
        "outputId": "41f01dc9-ee5a-4694-e0f5-9bac6fc5bf2b"
      },
      "execution_count": 93,
      "outputs": [
        {
          "output_type": "stream",
          "name": "stdout",
          "text": [
            "17 17 17 19\n"
          ]
        }
      ]
    },
    {
      "cell_type": "code",
      "source": [
        "print(set(df21[df21['malc'] == True]['matched_database'].unique()) - set(df22[df22['malc'] == True]['matched_database'].unique()),\n",
        "set(df21[df21['malc'] == True]['matched_database'].unique()) - set(df23[df23['malc'] == True]['matched_database'].unique()),\n",
        "'Two DBs are only shows up in 24, but not for 21~23: ', set(df24[df24['malc'] == True]['matched_database'].unique()) - set(df23[df23['malc'] == True]['matched_database'].unique())\n",
        ")"
      ],
      "metadata": {
        "colab": {
          "base_uri": "https://localhost:8080/"
        },
        "id": "b-1K6n4zm8DS",
        "outputId": "d986ceea-b854-44dd-fdef-2f63aef7d15f"
      },
      "execution_count": 101,
      "outputs": [
        {
          "output_type": "stream",
          "name": "stdout",
          "text": [
            "set() set() Two DBs are only shows up in 24, but not for 21~23:  {'Historical Abstracts with Full Text', 'America: History and Life with Full Text'}\n"
          ]
        }
      ]
    },
    {
      "cell_type": "code",
      "source": [
        "import pandas as pd\n",
        "\n",
        "# Define output path\n",
        "output_path = \"./data/combined_data.xlsx\"\n",
        "\n",
        "# Write to Excel with multiple sheets\n",
        "with pd.ExcelWriter(output_path, engine='xlsxwriter') as writer:\n",
        "    df21.to_excel(writer, sheet_name='2021', index=False)\n",
        "    df22.to_excel(writer, sheet_name='2022', index=False)\n",
        "    df23.to_excel(writer, sheet_name='2023', index=False)\n",
        "    df24.to_excel(writer, sheet_name='2024', index=False)"
      ],
      "metadata": {
        "id": "sGzXMINsqpWc"
      },
      "execution_count": 106,
      "outputs": []
    },
    {
      "cell_type": "markdown",
      "source": [
        "# Reshape Data Structure - Can be done on Tableau"
      ],
      "metadata": {
        "id": "0yjY7skNomUZ"
      }
    },
    {
      "cell_type": "code",
      "source": [
        "df21['Metric_Type'].unique()"
      ],
      "metadata": {
        "colab": {
          "base_uri": "https://localhost:8080/"
        },
        "id": "RBHz7Bj1HkVg",
        "outputId": "b864406f-546c-4064-e863-d2a67fe57ce1"
      },
      "execution_count": null,
      "outputs": [
        {
          "output_type": "execute_result",
          "data": {
            "text/plain": [
              "array(['Searches_Regular', 'Total_Item_Investigations',\n",
              "       'Total_Item_Requests', 'Unique_Item_Investigations',\n",
              "       'Unique_Item_Requests', 'Searches_Federated',\n",
              "       'Unique_Title_Investigations', 'Unique_Title_Requests',\n",
              "       'Searches_Automated', 'Limit_Exceeded'], dtype=object)"
            ]
          },
          "metadata": {},
          "execution_count": 43
        }
      ]
    },
    {
      "cell_type": "code",
      "source": [
        "df22['Metric_Type'].unique()"
      ],
      "metadata": {
        "colab": {
          "base_uri": "https://localhost:8080/"
        },
        "id": "R1KEwBACXDWZ",
        "outputId": "1d420d43-36e7-4727-9d24-05f658dc7344"
      },
      "execution_count": null,
      "outputs": [
        {
          "output_type": "execute_result",
          "data": {
            "text/plain": [
              "array(['Searches_Regular', 'Total_Item_Investigations',\n",
              "       'Total_Item_Requests', 'Unique_Item_Investigations',\n",
              "       'Unique_Item_Requests', 'Unique_Title_Investigations',\n",
              "       'Unique_Title_Requests', 'Searches_Automated'], dtype=object)"
            ]
          },
          "metadata": {},
          "execution_count": 44
        }
      ]
    },
    {
      "cell_type": "code",
      "source": [
        "df23['Metric_Type'].unique()"
      ],
      "metadata": {
        "colab": {
          "base_uri": "https://localhost:8080/"
        },
        "id": "hikaGAh2XE18",
        "outputId": "3039eceb-cf61-4b8e-f79a-766ebd4b3921"
      },
      "execution_count": null,
      "outputs": [
        {
          "output_type": "execute_result",
          "data": {
            "text/plain": [
              "array(['Searches_Regular', 'Total_Item_Investigations',\n",
              "       'Total_Item_Requests', 'Unique_Item_Investigations',\n",
              "       'Unique_Item_Requests', 'Unique_Title_Investigations',\n",
              "       'Unique_Title_Requests', 'Searches_Automated', 'Limit_Exceeded'],\n",
              "      dtype=object)"
            ]
          },
          "metadata": {},
          "execution_count": 45
        }
      ]
    },
    {
      "cell_type": "code",
      "source": [
        "df24['Metric_Type'].unique()"
      ],
      "metadata": {
        "colab": {
          "base_uri": "https://localhost:8080/"
        },
        "id": "-QulejzAXGGV",
        "outputId": "31922274-db0a-4ebf-af5a-173976a2ea62"
      },
      "execution_count": null,
      "outputs": [
        {
          "output_type": "execute_result",
          "data": {
            "text/plain": [
              "array(['Searches_Regular', 'Total_Item_Investigations',\n",
              "       'Total_Item_Requests', 'Unique_Item_Investigations',\n",
              "       'Unique_Item_Requests', 'Unique_Title_Investigations',\n",
              "       'Unique_Title_Requests', 'Searches_Automated', 'Limit_Exceeded'],\n",
              "      dtype=object)"
            ]
          },
          "metadata": {},
          "execution_count": 46
        }
      ]
    },
    {
      "cell_type": "code",
      "source": [
        "def reshape_df(df, month_cols):\n",
        "    # Step 1: Melt Jan–Dec into rows\n",
        "    melted = df.melt(\n",
        "        id_vars=['Database', 'Publisher', 'Platform', 'Proprietary_ID', 'Metric_Type'],\n",
        "        value_vars=month_cols,\n",
        "        var_name='Month',\n",
        "        value_name='Count'\n",
        "    )\n",
        "\n",
        "    # Step 2: Pivot Metric_Type to columns\n",
        "    reshaped = melted.pivot_table(\n",
        "        index=['Database', 'Publisher', 'Platform', 'Proprietary_ID', 'Month'],\n",
        "        columns='Metric_Type',\n",
        "        values='Count',\n",
        "        fill_value=0\n",
        "    ).reset_index()\n",
        "\n",
        "    return reshaped"
      ],
      "metadata": {
        "id": "3WgVhInfXHNH"
      },
      "execution_count": null,
      "outputs": []
    },
    {
      "cell_type": "code",
      "source": [
        "month_cols = ['Jan', 'Feb', 'Mar', 'Apr', 'May', 'Jun',\n",
        "              'Jul', 'Aug', 'Sep', 'Oct', 'Nov', 'Dec']\n",
        "\n",
        "df21_tidy = reshape_df(df21, month_cols)"
      ],
      "metadata": {
        "id": "cqerkaMyX-r8"
      },
      "execution_count": null,
      "outputs": []
    },
    {
      "cell_type": "code",
      "source": [
        "df21_tidy"
      ],
      "metadata": {
        "colab": {
          "base_uri": "https://localhost:8080/",
          "height": 878
        },
        "id": "qI9yTfGHYCU2",
        "outputId": "2b1ed8f5-6fea-4b59-bf2c-66807e6ea028"
      },
      "execution_count": null,
      "outputs": [
        {
          "output_type": "execute_result",
          "data": {
            "text/plain": [
              "Metric_Type                              Database         Publisher  \\\n",
              "0            AHFS Consumer Medication Information  EBSCO Publishing   \n",
              "1            AHFS Consumer Medication Information  EBSCO Publishing   \n",
              "2            AHFS Consumer Medication Information  EBSCO Publishing   \n",
              "3            AHFS Consumer Medication Information  EBSCO Publishing   \n",
              "4            AHFS Consumer Medication Information  EBSCO Publishing   \n",
              "...                                           ...               ...   \n",
              "1123                 eBook Collection (EBSCOhost)         Undefined   \n",
              "1124                 eBook Collection (EBSCOhost)         Undefined   \n",
              "1125                 eBook Collection (EBSCOhost)         Undefined   \n",
              "1126                 eBook Collection (EBSCOhost)         Undefined   \n",
              "1127                 eBook Collection (EBSCOhost)         Undefined   \n",
              "\n",
              "Metric_Type   Platform   Proprietary_ID Month  Limit_Exceeded  \\\n",
              "0            EBSCOhost    EBSCOhost:l0h   Apr             0.0   \n",
              "1            EBSCOhost    EBSCOhost:l0h   Aug             0.0   \n",
              "2            EBSCOhost    EBSCOhost:l0h   Dec             0.0   \n",
              "3            EBSCOhost    EBSCOhost:l0h   Feb             0.0   \n",
              "4            EBSCOhost    EBSCOhost:l0h   Jan             0.0   \n",
              "...                ...              ...   ...             ...   \n",
              "1123         EBSCOhost  EBSCOhost:nlebk   Mar             0.0   \n",
              "1124         EBSCOhost  EBSCOhost:nlebk   May             0.0   \n",
              "1125         EBSCOhost  EBSCOhost:nlebk   Nov             0.0   \n",
              "1126         EBSCOhost  EBSCOhost:nlebk   Oct             0.0   \n",
              "1127         EBSCOhost  EBSCOhost:nlebk   Sep             0.0   \n",
              "\n",
              "Metric_Type  Searches_Automated  Searches_Federated  Searches_Regular  \\\n",
              "0                           0.0                 0.0             241.0   \n",
              "1                           0.0                 0.0              75.0   \n",
              "2                           0.0                 0.0             164.0   \n",
              "3                           0.0                 0.0             176.0   \n",
              "4                           0.0                 0.0              62.0   \n",
              "...                         ...                 ...               ...   \n",
              "1123                        0.0                 0.0             671.0   \n",
              "1124                        0.0                 0.0             167.0   \n",
              "1125                        0.0                 0.0             365.0   \n",
              "1126                        0.0                 0.0             459.0   \n",
              "1127                        0.0                 0.0             507.0   \n",
              "\n",
              "Metric_Type  Total_Item_Investigations  Total_Item_Requests  \\\n",
              "0                                  0.0                  0.0   \n",
              "1                                  0.0                  0.0   \n",
              "2                                  0.0                  0.0   \n",
              "3                                  4.0                  2.0   \n",
              "4                                  0.0                  0.0   \n",
              "...                                ...                  ...   \n",
              "1123                            1618.0                755.0   \n",
              "1124                             369.0                172.0   \n",
              "1125                            1532.0                683.0   \n",
              "1126                            1892.0                827.0   \n",
              "1127                            4769.0               1788.0   \n",
              "\n",
              "Metric_Type  Unique_Item_Investigations  Unique_Item_Requests  \\\n",
              "0                                   0.0                   0.0   \n",
              "1                                   0.0                   0.0   \n",
              "2                                   0.0                   0.0   \n",
              "3                                   1.0                   1.0   \n",
              "4                                   0.0                   0.0   \n",
              "...                                 ...                   ...   \n",
              "1123                              788.0                 576.0   \n",
              "1124                              192.0                 132.0   \n",
              "1125                              783.0                 528.0   \n",
              "1126                              975.0                 695.0   \n",
              "1127                             2775.0                1560.0   \n",
              "\n",
              "Metric_Type  Unique_Title_Investigations  Unique_Title_Requests  \n",
              "0                                    0.0                    0.0  \n",
              "1                                    0.0                    0.0  \n",
              "2                                    0.0                    0.0  \n",
              "3                                    0.0                    0.0  \n",
              "4                                    0.0                    0.0  \n",
              "...                                  ...                    ...  \n",
              "1123                               788.0                  576.0  \n",
              "1124                               192.0                  132.0  \n",
              "1125                               783.0                  528.0  \n",
              "1126                               975.0                  695.0  \n",
              "1127                              2775.0                 1560.0  \n",
              "\n",
              "[1128 rows x 15 columns]"
            ],
            "text/html": [
              "<div>\n",
              "<style scoped>\n",
              "    .dataframe tbody tr th:only-of-type {\n",
              "        vertical-align: middle;\n",
              "    }\n",
              "\n",
              "    .dataframe tbody tr th {\n",
              "        vertical-align: top;\n",
              "    }\n",
              "\n",
              "    .dataframe thead th {\n",
              "        text-align: right;\n",
              "    }\n",
              "</style>\n",
              "<table border=\"1\" class=\"dataframe\">\n",
              "  <thead>\n",
              "    <tr style=\"text-align: right;\">\n",
              "      <th>Metric_Type</th>\n",
              "      <th>Database</th>\n",
              "      <th>Publisher</th>\n",
              "      <th>Platform</th>\n",
              "      <th>Proprietary_ID</th>\n",
              "      <th>Month</th>\n",
              "      <th>Limit_Exceeded</th>\n",
              "      <th>Searches_Automated</th>\n",
              "      <th>Searches_Federated</th>\n",
              "      <th>Searches_Regular</th>\n",
              "      <th>Total_Item_Investigations</th>\n",
              "      <th>Total_Item_Requests</th>\n",
              "      <th>Unique_Item_Investigations</th>\n",
              "      <th>Unique_Item_Requests</th>\n",
              "      <th>Unique_Title_Investigations</th>\n",
              "      <th>Unique_Title_Requests</th>\n",
              "    </tr>\n",
              "  </thead>\n",
              "  <tbody>\n",
              "    <tr>\n",
              "      <th>0</th>\n",
              "      <td>AHFS Consumer Medication Information</td>\n",
              "      <td>EBSCO Publishing</td>\n",
              "      <td>EBSCOhost</td>\n",
              "      <td>EBSCOhost:l0h</td>\n",
              "      <td>Apr</td>\n",
              "      <td>0.0</td>\n",
              "      <td>0.0</td>\n",
              "      <td>0.0</td>\n",
              "      <td>241.0</td>\n",
              "      <td>0.0</td>\n",
              "      <td>0.0</td>\n",
              "      <td>0.0</td>\n",
              "      <td>0.0</td>\n",
              "      <td>0.0</td>\n",
              "      <td>0.0</td>\n",
              "    </tr>\n",
              "    <tr>\n",
              "      <th>1</th>\n",
              "      <td>AHFS Consumer Medication Information</td>\n",
              "      <td>EBSCO Publishing</td>\n",
              "      <td>EBSCOhost</td>\n",
              "      <td>EBSCOhost:l0h</td>\n",
              "      <td>Aug</td>\n",
              "      <td>0.0</td>\n",
              "      <td>0.0</td>\n",
              "      <td>0.0</td>\n",
              "      <td>75.0</td>\n",
              "      <td>0.0</td>\n",
              "      <td>0.0</td>\n",
              "      <td>0.0</td>\n",
              "      <td>0.0</td>\n",
              "      <td>0.0</td>\n",
              "      <td>0.0</td>\n",
              "    </tr>\n",
              "    <tr>\n",
              "      <th>2</th>\n",
              "      <td>AHFS Consumer Medication Information</td>\n",
              "      <td>EBSCO Publishing</td>\n",
              "      <td>EBSCOhost</td>\n",
              "      <td>EBSCOhost:l0h</td>\n",
              "      <td>Dec</td>\n",
              "      <td>0.0</td>\n",
              "      <td>0.0</td>\n",
              "      <td>0.0</td>\n",
              "      <td>164.0</td>\n",
              "      <td>0.0</td>\n",
              "      <td>0.0</td>\n",
              "      <td>0.0</td>\n",
              "      <td>0.0</td>\n",
              "      <td>0.0</td>\n",
              "      <td>0.0</td>\n",
              "    </tr>\n",
              "    <tr>\n",
              "      <th>3</th>\n",
              "      <td>AHFS Consumer Medication Information</td>\n",
              "      <td>EBSCO Publishing</td>\n",
              "      <td>EBSCOhost</td>\n",
              "      <td>EBSCOhost:l0h</td>\n",
              "      <td>Feb</td>\n",
              "      <td>0.0</td>\n",
              "      <td>0.0</td>\n",
              "      <td>0.0</td>\n",
              "      <td>176.0</td>\n",
              "      <td>4.0</td>\n",
              "      <td>2.0</td>\n",
              "      <td>1.0</td>\n",
              "      <td>1.0</td>\n",
              "      <td>0.0</td>\n",
              "      <td>0.0</td>\n",
              "    </tr>\n",
              "    <tr>\n",
              "      <th>4</th>\n",
              "      <td>AHFS Consumer Medication Information</td>\n",
              "      <td>EBSCO Publishing</td>\n",
              "      <td>EBSCOhost</td>\n",
              "      <td>EBSCOhost:l0h</td>\n",
              "      <td>Jan</td>\n",
              "      <td>0.0</td>\n",
              "      <td>0.0</td>\n",
              "      <td>0.0</td>\n",
              "      <td>62.0</td>\n",
              "      <td>0.0</td>\n",
              "      <td>0.0</td>\n",
              "      <td>0.0</td>\n",
              "      <td>0.0</td>\n",
              "      <td>0.0</td>\n",
              "      <td>0.0</td>\n",
              "    </tr>\n",
              "    <tr>\n",
              "      <th>...</th>\n",
              "      <td>...</td>\n",
              "      <td>...</td>\n",
              "      <td>...</td>\n",
              "      <td>...</td>\n",
              "      <td>...</td>\n",
              "      <td>...</td>\n",
              "      <td>...</td>\n",
              "      <td>...</td>\n",
              "      <td>...</td>\n",
              "      <td>...</td>\n",
              "      <td>...</td>\n",
              "      <td>...</td>\n",
              "      <td>...</td>\n",
              "      <td>...</td>\n",
              "      <td>...</td>\n",
              "    </tr>\n",
              "    <tr>\n",
              "      <th>1123</th>\n",
              "      <td>eBook Collection (EBSCOhost)</td>\n",
              "      <td>Undefined</td>\n",
              "      <td>EBSCOhost</td>\n",
              "      <td>EBSCOhost:nlebk</td>\n",
              "      <td>Mar</td>\n",
              "      <td>0.0</td>\n",
              "      <td>0.0</td>\n",
              "      <td>0.0</td>\n",
              "      <td>671.0</td>\n",
              "      <td>1618.0</td>\n",
              "      <td>755.0</td>\n",
              "      <td>788.0</td>\n",
              "      <td>576.0</td>\n",
              "      <td>788.0</td>\n",
              "      <td>576.0</td>\n",
              "    </tr>\n",
              "    <tr>\n",
              "      <th>1124</th>\n",
              "      <td>eBook Collection (EBSCOhost)</td>\n",
              "      <td>Undefined</td>\n",
              "      <td>EBSCOhost</td>\n",
              "      <td>EBSCOhost:nlebk</td>\n",
              "      <td>May</td>\n",
              "      <td>0.0</td>\n",
              "      <td>0.0</td>\n",
              "      <td>0.0</td>\n",
              "      <td>167.0</td>\n",
              "      <td>369.0</td>\n",
              "      <td>172.0</td>\n",
              "      <td>192.0</td>\n",
              "      <td>132.0</td>\n",
              "      <td>192.0</td>\n",
              "      <td>132.0</td>\n",
              "    </tr>\n",
              "    <tr>\n",
              "      <th>1125</th>\n",
              "      <td>eBook Collection (EBSCOhost)</td>\n",
              "      <td>Undefined</td>\n",
              "      <td>EBSCOhost</td>\n",
              "      <td>EBSCOhost:nlebk</td>\n",
              "      <td>Nov</td>\n",
              "      <td>0.0</td>\n",
              "      <td>0.0</td>\n",
              "      <td>0.0</td>\n",
              "      <td>365.0</td>\n",
              "      <td>1532.0</td>\n",
              "      <td>683.0</td>\n",
              "      <td>783.0</td>\n",
              "      <td>528.0</td>\n",
              "      <td>783.0</td>\n",
              "      <td>528.0</td>\n",
              "    </tr>\n",
              "    <tr>\n",
              "      <th>1126</th>\n",
              "      <td>eBook Collection (EBSCOhost)</td>\n",
              "      <td>Undefined</td>\n",
              "      <td>EBSCOhost</td>\n",
              "      <td>EBSCOhost:nlebk</td>\n",
              "      <td>Oct</td>\n",
              "      <td>0.0</td>\n",
              "      <td>0.0</td>\n",
              "      <td>0.0</td>\n",
              "      <td>459.0</td>\n",
              "      <td>1892.0</td>\n",
              "      <td>827.0</td>\n",
              "      <td>975.0</td>\n",
              "      <td>695.0</td>\n",
              "      <td>975.0</td>\n",
              "      <td>695.0</td>\n",
              "    </tr>\n",
              "    <tr>\n",
              "      <th>1127</th>\n",
              "      <td>eBook Collection (EBSCOhost)</td>\n",
              "      <td>Undefined</td>\n",
              "      <td>EBSCOhost</td>\n",
              "      <td>EBSCOhost:nlebk</td>\n",
              "      <td>Sep</td>\n",
              "      <td>0.0</td>\n",
              "      <td>0.0</td>\n",
              "      <td>0.0</td>\n",
              "      <td>507.0</td>\n",
              "      <td>4769.0</td>\n",
              "      <td>1788.0</td>\n",
              "      <td>2775.0</td>\n",
              "      <td>1560.0</td>\n",
              "      <td>2775.0</td>\n",
              "      <td>1560.0</td>\n",
              "    </tr>\n",
              "  </tbody>\n",
              "</table>\n",
              "<p>1128 rows × 15 columns</p>\n",
              "</div>"
            ]
          },
          "metadata": {},
          "execution_count": 49
        }
      ]
    },
    {
      "cell_type": "code",
      "source": [],
      "metadata": {
        "id": "bS3rbFzMYDCG"
      },
      "execution_count": null,
      "outputs": []
    }
  ]
}