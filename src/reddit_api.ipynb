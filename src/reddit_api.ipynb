{
  "nbformat": 4,
  "nbformat_minor": 0,
  "metadata": {
    "colab": {
      "provenance": [],
      "authorship_tag": "ABX9TyNnuGMP0encki/14APZoNnp",
      "include_colab_link": true
    },
    "kernelspec": {
      "name": "python3",
      "display_name": "Python 3"
    },
    "language_info": {
      "name": "python"
    }
  },
  "cells": [
    {
      "cell_type": "markdown",
      "metadata": {
        "id": "view-in-github",
        "colab_type": "text"
      },
      "source": [
        "<a href=\"https://colab.research.google.com/github/DtotheS/AI-in-the-wild/blob/main/src/reddit_api.ipynb\" target=\"_parent\"><img src=\"https://colab.research.google.com/assets/colab-badge.svg\" alt=\"Open In Colab\"/></a>"
      ]
    },
    {
      "cell_type": "markdown",
      "source": [
        "# Reddit Data Collection with Python PRAW"
      ],
      "metadata": {
        "id": "Z4ZU8-eUPDr-"
      }
    },
    {
      "cell_type": "markdown",
      "source": [
        "<!DOCTYPE html>\n",
        "<html lang=\"en\">\n",
        "<body>\n",
        "    <h2>Sign-In for this Workshop</h2>\n",
        "    <img src=\"https://drive.google.com/uc?export=view&id=1NjmZejmnOhLlv0OT7_-tCJU1LOhLT51V\"\n",
        "         width=\"250\">\n",
        "</body>\n",
        "</html>"
      ],
      "metadata": {
        "id": "4KNyz53pPWEG"
      }
    },
    {
      "cell_type": "markdown",
      "source": [
        "## Instructor: [Dr. Sian Lee](https://libraries.olemiss.edu/team/dr-sian-lee/)\n",
        "\n",
        "<table>\n",
        "  <tr>\n",
        "    <!-- Picture on the Left -->\n",
        "    <td>\n",
        "      <img src=\"https://libraries.olemiss.edu/wp-content/uploads/2024/08/leeavatar-150x150.png\" alt=\"Sian\" style=\"width: 150px; border-radius: 50%;\">\n",
        "    </td>\n",
        "    <!-- Education Information on the Right -->\n",
        "    <td style=\"padding-left: 20px;\">\n",
        "      <h3>Assistant Professor of Scholar Support and Data Services (SSDS)</h3>\n",
        "      <h3>Education</h3>\n",
        "      <ul>\n",
        "        <li><strong>Ph.D. in Informatics, minor in Statistics</strong>, <br>Collge of Information Sciences and Technology (IST), <br>Penn State University</li>\n",
        "        <li><strong>M.A. & B.A. in Economics</strong>\n",
        "      </ul>\n",
        "    </td>\n",
        "  </tr>\n",
        "</table>"
      ],
      "metadata": {
        "id": "lS6vjMoYPOVv"
      }
    },
    {
      "cell_type": "markdown",
      "source": [
        "* Duration: 2 sessions, 1 hour/session\n",
        "* Tools: Python, PRAW (Python Reddit API Wrapper), Google Colab\n",
        "* Objective: Learn how to authenticate with the Reddit API and extract subreddit data—such as posts, user information, comments, URLs, and engagement metrics—using PRAW.\n",
        "* link for today's note: http://tiny.cc/reddit-data-1"
      ],
      "metadata": {
        "id": "ovf6L6iLP_h3"
      }
    },
    {
      "cell_type": "markdown",
      "source": [
        "# What You’ll Learn in This Workshop Series\n",
        "\n",
        "## Week 1\n",
        "- Overview of API & PRAW\n",
        "- API key setup (client_id, client_secret, user_agent)\n",
        "- Access subreddit (e.g., r/news)\n",
        "- Extract post metadata (title, author, score, comments, etc.)\n",
        "- Save collected posts to CSV (reddit_posts.csv)\n",
        "- Search posts using keywords (e.g., search(\"inflation\"))\n",
        "- Collect recent comments from subreddit\n",
        "\n",
        "## Week2\n",
        "- Collect user metadata (karma, cake day, mod status, etc.)\n",
        "- Collect each user’s posts\n",
        "- Collect each user’s comments\n",
        "- Collect comments under each post\n"
      ],
      "metadata": {
        "id": "IGyJ3evFCLlI"
      }
    },
    {
      "cell_type": "markdown",
      "source": [
        "# What is Application Programming Interface (API)?\n",
        "\n"
      ],
      "metadata": {
        "id": "Mgbtn8DZAuCV"
      }
    },
    {
      "cell_type": "markdown",
      "source": [
        "- Set of *rules* and *specifications* that allows different software applications to communicate and exchange data.\n",
        "- **Reddit** provides [an web API](https://www.reddit.com/dev/api/) (API over the web) so developers can programmatically access public Reddit data (e.g., posts, comments).\n",
        "- It is web API, so *any programming language* (Python, R, JAVA, JavaScript etc.) that can make HTTP request (like GET, POST, etc.) can use it.\n",
        "- APIs are not just for research or data collection. Developers also use them to build apps, connect services, automate workflows, and create real-time user experiences across many industries.\n"
      ],
      "metadata": {
        "id": "8uvETz-rA5DP"
      }
    },
    {
      "cell_type": "markdown",
      "source": [
        "<!DOCTYPE html>\n",
        "<html lang=\"en\">\n",
        "<body>\n",
        "    <img src=\"https://media.geeksforgeeks.org/wp-content/uploads/20230216170349/What-is-an-API.png\"\n",
        "         width=\"800\">\n",
        "</body>\n",
        "</html>"
      ],
      "metadata": {
        "id": "FDD-VC6wEbPq"
      }
    },
    {
      "cell_type": "markdown",
      "source": [
        "# What is PRAW and Why Use It?"
      ],
      "metadata": {
        "id": "dc5zreJ6A-Nj"
      }
    },
    {
      "cell_type": "markdown",
      "source": [
        "- PRAW stands for **Python Reddit API Wrapper**.\n",
        "- It is a Python library that makes it easy to interact with Reddit’s API.\n",
        "- It abstracts away the complexity of making raw HTTP requests.\n",
        "    - Object-Oriented Interface\n",
        "    - PRAW provides Pythonic objects like Submission, Comment, Subreddit, Redditor.\n",
        "    - You get structured attributes like .title, .score, .author, etc.\n",
        "- With just a few lines of code, you can access posts, comments, and user info.\n",
        "- **EASY TO USE**\n",
        "\n",
        "\n",
        "\n",
        "[PRAW documentation Link](https://praw.readthedocs.io/en/stable/code_overview/models/subreddit.html#)"
      ],
      "metadata": {
        "id": "o-bI0_ox24Jm"
      }
    },
    {
      "cell_type": "markdown",
      "source": [
        "# Set Up Reddit API Credentials"
      ],
      "metadata": {
        "id": "6aGsbzUo74e2"
      }
    },
    {
      "cell_type": "markdown",
      "source": [
        "To access Reddit API using PRAW, you need to create a Reddit App:\n",
        "\n",
        "1. Go to [https://www.reddit.com/prefs/apps](https://www.reddit.com/prefs/apps)\n",
        "2. Sign-up (if you are new to Reddit)\n",
        "    - email verification code\n",
        "3. Click **“are you a developer? create an app...”** or **“Create Another App”**\n",
        "4. Fill in the form:\n",
        "   - **Name**: custom name. e.g., `WorkshopPraw`\n",
        "   - **App type**: select `script`\n",
        "   - **Redirect URI**: placeholder `http://localhost:8080`\n",
        "   - **Description**: *(optional)*\n",
        "5. Click **Create App**\n",
        "6. After creating, save the following credentials:\n",
        "   - `client_id`\n",
        "   - `client_secret`\n",
        "   - `user_agent` *(e.g., \"YOURAPPNAME by /u/yourusername\", \"WokrshopPraw by /u/username\")*\n"
      ],
      "metadata": {
        "id": "gWJty30XRUVV"
      }
    },
    {
      "cell_type": "markdown",
      "source": [
        "<!DOCTYPE html>\n",
        "<html lang=\"en\">\n",
        "<body>\n",
        "    <h3>Create App</h3>\n",
        "    <img src=\"https://drive.google.com/uc?export=view&id=1ocry4-TbRR4BTZZoe5Hok0ZlW5YYZING\"\n",
        "         width=\"800\">\n",
        "</body>\n",
        "</html>\n",
        "\n",
        "<html lang=\"en\">\n",
        "<body>\n",
        "    <h3>id, secret, username</h3>\n",
        "    <img src=\"https://drive.google.com/uc?export=view&id=12RuMFH8DdbIhNETKcz3-MvUH99ctS7WP\"\n",
        "         width=\"800\">\n",
        "</body>\n",
        "</html>"
      ],
      "metadata": {
        "id": "uXxY_9uJ8qnL"
      }
    },
    {
      "cell_type": "markdown",
      "source": [
        "# Install and Import PRAW"
      ],
      "metadata": {
        "id": "rZWcN-OZRfpw"
      }
    },
    {
      "cell_type": "markdown",
      "source": [
        "- install praw"
      ],
      "metadata": {
        "id": "Dhnn0HJ-V2kB"
      }
    },
    {
      "cell_type": "code",
      "execution_count": 1,
      "metadata": {
        "colab": {
          "base_uri": "https://localhost:8080/"
        },
        "id": "PL-YJdaQ-I1l",
        "outputId": "12835510-a417-47be-90ee-709a806bf592"
      },
      "outputs": [
        {
          "output_type": "stream",
          "name": "stdout",
          "text": [
            "Collecting praw\n",
            "  Downloading praw-7.8.1-py3-none-any.whl.metadata (9.4 kB)\n",
            "Collecting prawcore<3,>=2.4 (from praw)\n",
            "  Downloading prawcore-2.4.0-py3-none-any.whl.metadata (5.0 kB)\n",
            "Collecting update_checker>=0.18 (from praw)\n",
            "  Downloading update_checker-0.18.0-py3-none-any.whl.metadata (2.3 kB)\n",
            "Requirement already satisfied: websocket-client>=0.54.0 in /usr/local/lib/python3.11/dist-packages (from praw) (1.8.0)\n",
            "Requirement already satisfied: requests<3.0,>=2.6.0 in /usr/local/lib/python3.11/dist-packages (from prawcore<3,>=2.4->praw) (2.32.3)\n",
            "Requirement already satisfied: charset-normalizer<4,>=2 in /usr/local/lib/python3.11/dist-packages (from requests<3.0,>=2.6.0->prawcore<3,>=2.4->praw) (3.4.1)\n",
            "Requirement already satisfied: idna<4,>=2.5 in /usr/local/lib/python3.11/dist-packages (from requests<3.0,>=2.6.0->prawcore<3,>=2.4->praw) (3.10)\n",
            "Requirement already satisfied: urllib3<3,>=1.21.1 in /usr/local/lib/python3.11/dist-packages (from requests<3.0,>=2.6.0->prawcore<3,>=2.4->praw) (2.3.0)\n",
            "Requirement already satisfied: certifi>=2017.4.17 in /usr/local/lib/python3.11/dist-packages (from requests<3.0,>=2.6.0->prawcore<3,>=2.4->praw) (2025.1.31)\n",
            "Downloading praw-7.8.1-py3-none-any.whl (189 kB)\n",
            "\u001b[2K   \u001b[90m━━━━━━━━━━━━━━━━━━━━━━━━━━━━━━━━━━━━━━━━\u001b[0m \u001b[32m189.3/189.3 kB\u001b[0m \u001b[31m3.8 MB/s\u001b[0m eta \u001b[36m0:00:00\u001b[0m\n",
            "\u001b[?25hDownloading prawcore-2.4.0-py3-none-any.whl (17 kB)\n",
            "Downloading update_checker-0.18.0-py3-none-any.whl (7.0 kB)\n",
            "Installing collected packages: update_checker, prawcore, praw\n",
            "Successfully installed praw-7.8.1 prawcore-2.4.0 update_checker-0.18.0\n"
          ]
        }
      ],
      "source": [
        "!pip install praw"
      ]
    },
    {
      "cell_type": "markdown",
      "source": [
        "* Import necessary libraries"
      ],
      "metadata": {
        "id": "okgATSb2RwpT"
      }
    },
    {
      "cell_type": "code",
      "source": [
        "import praw\n",
        "import pandas as pd\n",
        "from datetime import datetime"
      ],
      "metadata": {
        "id": "2snwiO4w-sUC"
      },
      "execution_count": 3,
      "outputs": []
    },
    {
      "cell_type": "markdown",
      "source": [
        "# Authenticate with Reddit API"
      ],
      "metadata": {
        "id": "BAkxrLJzCFV6"
      }
    },
    {
      "cell_type": "markdown",
      "source": [
        "- https://www.reddit.com/prefs/apps\n",
        "- Define credentials\n",
        "- Initialize reddit instance"
      ],
      "metadata": {
        "id": "LZ8NzKwQVF1z"
      }
    },
    {
      "cell_type": "code",
      "source": [
        "# Define credentials first\n",
        "client_id=\"6OzL9t0CK8knR1OEMXP4ag\"\n",
        "client_secret=\"eg4fK5EnXKvYKzANxZUzQ-_luwhUpg\"\n",
        "user_agent=\"WokrshopPraw by /u/load_i_n_g\"\n",
        "\n",
        "\n",
        "# Initialize Reddit instance\n",
        "reddit = praw.Reddit(client_id=client_id,\n",
        "                     client_secret=client_secret,\n",
        "                     user_agent=user_agent)"
      ],
      "metadata": {
        "id": "CROn-RPWCKyn"
      },
      "execution_count": 4,
      "outputs": []
    },
    {
      "cell_type": "markdown",
      "source": [
        "# Access a Subreddit r/news"
      ],
      "metadata": {
        "id": "6tLFuKPbh6hj"
      }
    },
    {
      "cell_type": "markdown",
      "source": [
        "[Reddit Communities](https://www.reddit.com/best/communities/1/)\n"
      ],
      "metadata": {
        "id": "xnoRGTpIzLrV"
      }
    },
    {
      "cell_type": "markdown",
      "source": [
        "- get 10 submissions/posts from r/news"
      ],
      "metadata": {
        "id": "4Af-RPtyW2Pn"
      }
    },
    {
      "cell_type": "code",
      "source": [
        "reddit.subreddit(\"news\").new(limit=10)"
      ],
      "metadata": {
        "colab": {
          "base_uri": "https://localhost:8080/"
        },
        "id": "IFOmexl2WsrU",
        "outputId": "571f286c-f443-4b52-f698-5c3be75de5cf"
      },
      "execution_count": 6,
      "outputs": [
        {
          "output_type": "execute_result",
          "data": {
            "text/plain": [
              "<praw.models.listing.generator.ListingGenerator at 0x7b5b2bcb7b10>"
            ]
          },
          "metadata": {},
          "execution_count": 6
        }
      ]
    },
    {
      "cell_type": "markdown",
      "source": [
        "- extract data from each submission"
      ],
      "metadata": {
        "id": "98zr_g3wYMSc"
      }
    },
    {
      "cell_type": "code",
      "source": [
        "for submission in reddit.subreddit(\"news\").new(limit=10):\n",
        "    print(\"title: \", submission.title)\n",
        "    print(\"id: \", submission.id)\n",
        "    print(\"--\"*50)"
      ],
      "metadata": {
        "colab": {
          "base_uri": "https://localhost:8080/"
        },
        "id": "vc8EHZQsXDCa",
        "outputId": "816a15a6-793e-4332-cdcc-ad591fec904a"
      },
      "execution_count": 9,
      "outputs": [
        {
          "output_type": "stream",
          "name": "stdout",
          "text": [
            "title:  US FDA suspends milk quality tests amid workforce cuts\n",
            "id:  1k59llu\n",
            "----------------------------------------------------------------------------------------------------\n",
            "title:  25 tourists dead as Islamic outfit opens fire at Pahalgam, Jammu and Kashmir.\n",
            "id:  1k58ah4\n",
            "----------------------------------------------------------------------------------------------------\n",
            "title:  Films made with AI can win Oscars, Academy says\n",
            "id:  1k584cy\n",
            "----------------------------------------------------------------------------------------------------\n",
            "title:  Info Pete Hegseth shared with wife, brother came from top general's secure messages\n",
            "id:  1k571mo\n",
            "----------------------------------------------------------------------------------------------------\n",
            "title:  Francis changed church policy on the death penalty and nuclear weapons but upheld it on abortion\n",
            "id:  1k56y53\n",
            "----------------------------------------------------------------------------------------------------\n",
            "title:  Mexican Cartels Are Using Casinos, to Launder Fentanyl Proceedings In the U.S.\n",
            "id:  1k55zk3\n",
            "----------------------------------------------------------------------------------------------------\n",
            "title:  US sets tariffs of up to 3,521% on South East Asia solar panels\n",
            "id:  1k52dzo\n",
            "----------------------------------------------------------------------------------------------------\n",
            "title:  Walgreens to pay up to $350 million in US opioid settlement\n",
            "id:  1k5171z\n",
            "----------------------------------------------------------------------------------------------------\n",
            "title:  Trial to boldly grow food in space labs blasts off\n",
            "id:  1k4zq5a\n",
            "----------------------------------------------------------------------------------------------------\n",
            "title:  US FTC sues Uber, alleging deceptive subscription practices\n",
            "id:  1k4wc1t\n",
            "----------------------------------------------------------------------------------------------------\n"
          ]
        }
      ]
    },
    {
      "cell_type": "markdown",
      "source": [
        "| Sort Option | Description |\n",
        "|-------------|-------------|\n",
        "| **hot**     | Most \"active\" posts right now — based on score, time decay, and engagement |\n",
        "| **new**     | Posts sorted by most recent — no upvote influence |\n",
        "| **rising**  | Posts that are quickly gaining upvotes and engagement, but not yet on \"hot\" |\n",
        "| **top**     | Posts with the highest scores over a time period (all-time, week, day, etc.) |\n",
        "| **best**    | Personalized best posts (⚠️ works only with logged-in users via front page and `subreddit.best()` doesn’t exist) |"
      ],
      "metadata": {
        "id": "Nvs22iyIZzQJ"
      }
    },
    {
      "cell_type": "markdown",
      "source": [
        "-  Hide PRAW async environment warnings"
      ],
      "metadata": {
        "id": "0H5D8mdFX9Ae"
      }
    },
    {
      "cell_type": "code",
      "source": [
        "import logging\n",
        "\n",
        "# Suppress PRAW async environment warnings\n",
        "logger = logging.getLogger(\"praw\")\n",
        "logger.setLevel(logging.ERROR)"
      ],
      "metadata": {
        "id": "wgiB0XQvX4Wc"
      },
      "execution_count": 8,
      "outputs": []
    },
    {
      "cell_type": "markdown",
      "source": [
        "# Store and Save Data"
      ],
      "metadata": {
        "id": "zIfEzFBDYZs3"
      }
    },
    {
      "cell_type": "markdown",
      "source": [
        "- attributes: id, title, author, body text, score, upvote ratio, number of comments, date, url, post link"
      ],
      "metadata": {
        "id": "bGevsHfyYQb1"
      }
    },
    {
      "cell_type": "code",
      "source": [
        "posts = []\n",
        "for submission in reddit.subreddit(\"news\").new(limit=None): #hot, new, rising, top,\n",
        "    posts.append({\n",
        "        \"id\": submission.id, # unique post id\n",
        "        \"title\": submission.title,\n",
        "        \"author\": str(submission.author), # user name\n",
        "        \"selftext\": submission.selftext, # body text\n",
        "        \"score\": submission.score, # Upvote - Downvote\n",
        "        \"upvote_ratio\": submission.upvote_ratio,\n",
        "        \"num_comments\": submission.num_comments,\n",
        "        \"created_utc\": submission.created_utc, #UTC: Coordinated Universal Time\n",
        "        \"created_date\": datetime.utcfromtimestamp(submission.created_utc).strftime(\"%Y-%m-%d %H:%M:%S\"), #string format time\n",
        "        \"url\": submission.url,\n",
        "        \"permalink\": \"https://reddit.com\"+submission.permalink\n",
        "    })\n",
        "\n",
        "print(f\"Collected {len(posts)} new posts\")"
      ],
      "metadata": {
        "colab": {
          "base_uri": "https://localhost:8080/"
        },
        "id": "oOZhlepMh8cv",
        "outputId": "5d50f7cc-6e69-4349-e619-df7c6ebd3957"
      },
      "execution_count": 10,
      "outputs": [
        {
          "output_type": "stream",
          "name": "stdout",
          "text": [
            "Collected 292 new posts\n"
          ]
        }
      ]
    },
    {
      "cell_type": "code",
      "source": [
        "posts[:10]"
      ],
      "metadata": {
        "colab": {
          "base_uri": "https://localhost:8080/"
        },
        "id": "n_Xa6WfqteSk",
        "outputId": "0d060c7e-2a76-4a61-8a60-e49298839beb"
      },
      "execution_count": 11,
      "outputs": [
        {
          "output_type": "execute_result",
          "data": {
            "text/plain": [
              "[{'id': '1k59llu',\n",
              "  'title': 'US FDA suspends milk quality tests amid workforce cuts',\n",
              "  'author': 'wei-long',\n",
              "  'selftext': '',\n",
              "  'score': 38,\n",
              "  'upvote_ratio': 0.93,\n",
              "  'num_comments': 9,\n",
              "  'created_utc': 1745336787.0,\n",
              "  'created_date': '2025-04-22 15:46:27',\n",
              "  'url': 'https://www.reuters.com/business/healthcare-pharmaceuticals/us-fda-suspends-milk-quality-tests-amid-workforce-cuts-2025-04-21/',\n",
              "  'permalink': 'https://reddit.com/r/news/comments/1k59llu/us_fda_suspends_milk_quality_tests_amid_workforce/'},\n",
              " {'id': '1k58ah4',\n",
              "  'title': '25 tourists dead as Islamic outfit opens fire at Pahalgam, Jammu and Kashmir.',\n",
              "  'author': 'sacredsome',\n",
              "  'selftext': '',\n",
              "  'score': 148,\n",
              "  'upvote_ratio': 0.92,\n",
              "  'num_comments': 8,\n",
              "  'created_utc': 1745333638.0,\n",
              "  'created_date': '2025-04-22 14:53:58',\n",
              "  'url': 'https://www.thehindu.com/news/national/pahalgam-jammu-kashmir-terror-attack-tourists-dead-injured-april-22-2025/article69478557.ece',\n",
              "  'permalink': 'https://reddit.com/r/news/comments/1k58ah4/25_tourists_dead_as_islamic_outfit_opens_fire_at/'},\n",
              " {'id': '1k584cy',\n",
              "  'title': 'Films made with AI can win Oscars, Academy says',\n",
              "  'author': 'aiiimee',\n",
              "  'selftext': '',\n",
              "  'score': 174,\n",
              "  'upvote_ratio': 0.74,\n",
              "  'num_comments': 75,\n",
              "  'created_utc': 1745333209.0,\n",
              "  'created_date': '2025-04-22 14:46:49',\n",
              "  'url': 'https://www.bbc.co.uk/news/articles/cqx4y1lrz2vo',\n",
              "  'permalink': 'https://reddit.com/r/news/comments/1k584cy/films_made_with_ai_can_win_oscars_academy_says/'},\n",
              " {'id': '1k571mo',\n",
              "  'title': \"Info Pete Hegseth shared with wife, brother came from top general's secure messages\",\n",
              "  'author': 'rapidcreek409',\n",
              "  'selftext': '',\n",
              "  'score': 7249,\n",
              "  'upvote_ratio': 0.98,\n",
              "  'num_comments': 253,\n",
              "  'created_utc': 1745330469.0,\n",
              "  'created_date': '2025-04-22 14:01:09',\n",
              "  'url': 'https://www.nbcnews.com/politics/national-security/info-hegseths-yemen-signal-texts-came-generals-secure-messages-rcna198838',\n",
              "  'permalink': 'https://reddit.com/r/news/comments/1k571mo/info_pete_hegseth_shared_with_wife_brother_came/'},\n",
              " {'id': '1k56y53',\n",
              "  'title': 'Francis changed church policy on the death penalty and nuclear weapons but upheld it on abortion',\n",
              "  'author': 'Strict_League7833',\n",
              "  'selftext': '',\n",
              "  'score': 607,\n",
              "  'upvote_ratio': 0.93,\n",
              "  'num_comments': 133,\n",
              "  'created_utc': 1745330220.0,\n",
              "  'created_date': '2025-04-22 13:57:00',\n",
              "  'url': 'https://apnews.com/article/pope-francis-career-highlights-589cbd4ffd574d6c9c2674add1b564c9',\n",
              "  'permalink': 'https://reddit.com/r/news/comments/1k56y53/francis_changed_church_policy_on_the_death/'},\n",
              " {'id': '1k55zk3',\n",
              "  'title': 'Mexican Cartels Are Using Casinos, to Launder Fentanyl Proceedings In the U.S.',\n",
              "  'author': 'Aggravating_Money992',\n",
              "  'selftext': '',\n",
              "  'score': 3623,\n",
              "  'upvote_ratio': 0.93,\n",
              "  'num_comments': 297,\n",
              "  'created_utc': 1745327618.0,\n",
              "  'created_date': '2025-04-22 13:13:38',\n",
              "  'url': 'https://www.latintimes.com/mexican-cartels-are-using-casinos-o-launder-fentanyl-proceedings-us-581335',\n",
              "  'permalink': 'https://reddit.com/r/news/comments/1k55zk3/mexican_cartels_are_using_casinos_to_launder/'},\n",
              " {'id': '1k52dzo',\n",
              "  'title': 'US sets tariffs of up to 3,521% on South East Asia solar panels',\n",
              "  'author': 'p_pio',\n",
              "  'selftext': '',\n",
              "  'score': 2764,\n",
              "  'upvote_ratio': 0.96,\n",
              "  'num_comments': 401,\n",
              "  'created_utc': 1745315313.0,\n",
              "  'created_date': '2025-04-22 09:48:33',\n",
              "  'url': 'https://www.bbc.com/news/articles/c5ygdv47vlzo',\n",
              "  'permalink': 'https://reddit.com/r/news/comments/1k52dzo/us_sets_tariffs_of_up_to_3521_on_south_east_asia/'},\n",
              " {'id': '1k5171z',\n",
              "  'title': 'Walgreens to pay up to $350 million in US opioid settlement',\n",
              "  'author': 'p_pio',\n",
              "  'selftext': '',\n",
              "  'score': 1513,\n",
              "  'upvote_ratio': 0.97,\n",
              "  'num_comments': 83,\n",
              "  'created_utc': 1745310040.0,\n",
              "  'created_date': '2025-04-22 08:20:40',\n",
              "  'url': 'https://edition.cnn.com/2025/04/22/business/walgreens-opioid-settlement-hnk/index.html',\n",
              "  'permalink': 'https://reddit.com/r/news/comments/1k5171z/walgreens_to_pay_up_to_350_million_in_us_opioid/'},\n",
              " {'id': '1k4zq5a',\n",
              "  'title': 'Trial to boldly grow food in space labs blasts off',\n",
              "  'author': 'Mein_Bergkamp',\n",
              "  'selftext': '',\n",
              "  'score': 188,\n",
              "  'upvote_ratio': 0.88,\n",
              "  'num_comments': 13,\n",
              "  'created_utc': 1745303685.0,\n",
              "  'created_date': '2025-04-22 06:34:45',\n",
              "  'url': 'https://www.bbc.co.uk/news/articles/cp34wzql2xvo',\n",
              "  'permalink': 'https://reddit.com/r/news/comments/1k4zq5a/trial_to_boldly_grow_food_in_space_labs_blasts_off/'},\n",
              " {'id': '1k4wc1t',\n",
              "  'title': 'US FTC sues Uber, alleging deceptive subscription practices',\n",
              "  'author': 'steffxoxoxoo',\n",
              "  'selftext': '',\n",
              "  'score': 1028,\n",
              "  'upvote_ratio': 0.98,\n",
              "  'num_comments': 47,\n",
              "  'created_utc': 1745291327.0,\n",
              "  'created_date': '2025-04-22 03:08:47',\n",
              "  'url': 'https://www.bbc.com/news/articles/c1drkq0dy07o',\n",
              "  'permalink': 'https://reddit.com/r/news/comments/1k4wc1t/us_ftc_sues_uber_alleging_deceptive_subscription/'}]"
            ]
          },
          "metadata": {},
          "execution_count": 11
        }
      ]
    },
    {
      "cell_type": "code",
      "source": [
        "df = pd.DataFrame(posts)\n",
        "df"
      ],
      "metadata": {
        "colab": {
          "base_uri": "https://localhost:8080/",
          "height": 1000
        },
        "id": "OyinA40LZ732",
        "outputId": "b02460c5-313b-4e8a-a34d-d6b0d355fb30"
      },
      "execution_count": 12,
      "outputs": [
        {
          "output_type": "execute_result",
          "data": {
            "text/plain": [
              "          id                                              title  \\\n",
              "0    1k59llu  US FDA suspends milk quality tests amid workfo...   \n",
              "1    1k58ah4  25 tourists dead as Islamic outfit opens fire ...   \n",
              "2    1k584cy    Films made with AI can win Oscars, Academy says   \n",
              "3    1k571mo  Info Pete Hegseth shared with wife, brother ca...   \n",
              "4    1k56y53  Francis changed church policy on the death pen...   \n",
              "..       ...                                                ...   \n",
              "287  1jtmpj0  US sidelines DOJ lawyer involved in deportatio...   \n",
              "288  1jtlin6     Elon Musk's X to clamp down on parody accounts   \n",
              "289  1jtixn7  Visa records of CMU international students ter...   \n",
              "290  1jtioi2  M23 rebels and Congolese government hold first...   \n",
              "291  1jth1lv  U.S. sent 238 migrants to Salvadoran mega-pris...   \n",
              "\n",
              "                   author selftext  score  upvote_ratio  num_comments  \\\n",
              "0                wei-long              38          0.93             9   \n",
              "1              sacredsome             148          0.92             8   \n",
              "2                 aiiimee             174          0.74            75   \n",
              "3           rapidcreek409            7249          0.98           253   \n",
              "4       Strict_League7833             607          0.93           133   \n",
              "..                    ...      ...    ...           ...           ...   \n",
              "287              swap_019            8826          0.97           203   \n",
              "288  Aggravating_Money992           19650          0.92          1758   \n",
              "289           apple_kicks            2330          0.95           288   \n",
              "290       Rogue_Eccentric             189          0.95             2   \n",
              "291        LadyMadonna_x6           45698          0.88          2978   \n",
              "\n",
              "      created_utc         created_date  \\\n",
              "0    1.745337e+09  2025-04-22 15:46:27   \n",
              "1    1.745334e+09  2025-04-22 14:53:58   \n",
              "2    1.745333e+09  2025-04-22 14:46:49   \n",
              "3    1.745330e+09  2025-04-22 14:01:09   \n",
              "4    1.745330e+09  2025-04-22 13:57:00   \n",
              "..            ...                  ...   \n",
              "287  1.744036e+09  2025-04-07 14:33:55   \n",
              "288  1.744033e+09  2025-04-07 13:41:39   \n",
              "289  1.744025e+09  2025-04-07 11:26:39   \n",
              "290  1.744024e+09  2025-04-07 11:10:55   \n",
              "291  1.744018e+09  2025-04-07 09:18:32   \n",
              "\n",
              "                                                   url  \\\n",
              "0    https://www.reuters.com/business/healthcare-ph...   \n",
              "1    https://www.thehindu.com/news/national/pahalga...   \n",
              "2     https://www.bbc.co.uk/news/articles/cqx4y1lrz2vo   \n",
              "3    https://www.nbcnews.com/politics/national-secu...   \n",
              "4    https://apnews.com/article/pope-francis-career...   \n",
              "..                                                 ...   \n",
              "287  https://www.reuters.com/world/us/us-sidelines-...   \n",
              "288     https://www.bbc.com/news/articles/c4g37elkrxdo   \n",
              "289  https://www.ourmidland.com/news/article/cmu-in...   \n",
              "290  https://www.zimsphere.co.zw/2025/04/m23-rebels...   \n",
              "291  https://www.cbsnews.com/news/what-records-show...   \n",
              "\n",
              "                                             permalink  \n",
              "0    https://reddit.com/r/news/comments/1k59llu/us_...  \n",
              "1    https://reddit.com/r/news/comments/1k58ah4/25_...  \n",
              "2    https://reddit.com/r/news/comments/1k584cy/fil...  \n",
              "3    https://reddit.com/r/news/comments/1k571mo/inf...  \n",
              "4    https://reddit.com/r/news/comments/1k56y53/fra...  \n",
              "..                                                 ...  \n",
              "287  https://reddit.com/r/news/comments/1jtmpj0/us_...  \n",
              "288  https://reddit.com/r/news/comments/1jtlin6/elo...  \n",
              "289  https://reddit.com/r/news/comments/1jtixn7/vis...  \n",
              "290  https://reddit.com/r/news/comments/1jtioi2/m23...  \n",
              "291  https://reddit.com/r/news/comments/1jth1lv/us_...  \n",
              "\n",
              "[292 rows x 11 columns]"
            ],
            "text/html": [
              "\n",
              "  <div id=\"df-fb930956-0be4-4f0f-aa8e-b616d6c206c0\" class=\"colab-df-container\">\n",
              "    <div>\n",
              "<style scoped>\n",
              "    .dataframe tbody tr th:only-of-type {\n",
              "        vertical-align: middle;\n",
              "    }\n",
              "\n",
              "    .dataframe tbody tr th {\n",
              "        vertical-align: top;\n",
              "    }\n",
              "\n",
              "    .dataframe thead th {\n",
              "        text-align: right;\n",
              "    }\n",
              "</style>\n",
              "<table border=\"1\" class=\"dataframe\">\n",
              "  <thead>\n",
              "    <tr style=\"text-align: right;\">\n",
              "      <th></th>\n",
              "      <th>id</th>\n",
              "      <th>title</th>\n",
              "      <th>author</th>\n",
              "      <th>selftext</th>\n",
              "      <th>score</th>\n",
              "      <th>upvote_ratio</th>\n",
              "      <th>num_comments</th>\n",
              "      <th>created_utc</th>\n",
              "      <th>created_date</th>\n",
              "      <th>url</th>\n",
              "      <th>permalink</th>\n",
              "    </tr>\n",
              "  </thead>\n",
              "  <tbody>\n",
              "    <tr>\n",
              "      <th>0</th>\n",
              "      <td>1k59llu</td>\n",
              "      <td>US FDA suspends milk quality tests amid workfo...</td>\n",
              "      <td>wei-long</td>\n",
              "      <td></td>\n",
              "      <td>38</td>\n",
              "      <td>0.93</td>\n",
              "      <td>9</td>\n",
              "      <td>1.745337e+09</td>\n",
              "      <td>2025-04-22 15:46:27</td>\n",
              "      <td>https://www.reuters.com/business/healthcare-ph...</td>\n",
              "      <td>https://reddit.com/r/news/comments/1k59llu/us_...</td>\n",
              "    </tr>\n",
              "    <tr>\n",
              "      <th>1</th>\n",
              "      <td>1k58ah4</td>\n",
              "      <td>25 tourists dead as Islamic outfit opens fire ...</td>\n",
              "      <td>sacredsome</td>\n",
              "      <td></td>\n",
              "      <td>148</td>\n",
              "      <td>0.92</td>\n",
              "      <td>8</td>\n",
              "      <td>1.745334e+09</td>\n",
              "      <td>2025-04-22 14:53:58</td>\n",
              "      <td>https://www.thehindu.com/news/national/pahalga...</td>\n",
              "      <td>https://reddit.com/r/news/comments/1k58ah4/25_...</td>\n",
              "    </tr>\n",
              "    <tr>\n",
              "      <th>2</th>\n",
              "      <td>1k584cy</td>\n",
              "      <td>Films made with AI can win Oscars, Academy says</td>\n",
              "      <td>aiiimee</td>\n",
              "      <td></td>\n",
              "      <td>174</td>\n",
              "      <td>0.74</td>\n",
              "      <td>75</td>\n",
              "      <td>1.745333e+09</td>\n",
              "      <td>2025-04-22 14:46:49</td>\n",
              "      <td>https://www.bbc.co.uk/news/articles/cqx4y1lrz2vo</td>\n",
              "      <td>https://reddit.com/r/news/comments/1k584cy/fil...</td>\n",
              "    </tr>\n",
              "    <tr>\n",
              "      <th>3</th>\n",
              "      <td>1k571mo</td>\n",
              "      <td>Info Pete Hegseth shared with wife, brother ca...</td>\n",
              "      <td>rapidcreek409</td>\n",
              "      <td></td>\n",
              "      <td>7249</td>\n",
              "      <td>0.98</td>\n",
              "      <td>253</td>\n",
              "      <td>1.745330e+09</td>\n",
              "      <td>2025-04-22 14:01:09</td>\n",
              "      <td>https://www.nbcnews.com/politics/national-secu...</td>\n",
              "      <td>https://reddit.com/r/news/comments/1k571mo/inf...</td>\n",
              "    </tr>\n",
              "    <tr>\n",
              "      <th>4</th>\n",
              "      <td>1k56y53</td>\n",
              "      <td>Francis changed church policy on the death pen...</td>\n",
              "      <td>Strict_League7833</td>\n",
              "      <td></td>\n",
              "      <td>607</td>\n",
              "      <td>0.93</td>\n",
              "      <td>133</td>\n",
              "      <td>1.745330e+09</td>\n",
              "      <td>2025-04-22 13:57:00</td>\n",
              "      <td>https://apnews.com/article/pope-francis-career...</td>\n",
              "      <td>https://reddit.com/r/news/comments/1k56y53/fra...</td>\n",
              "    </tr>\n",
              "    <tr>\n",
              "      <th>...</th>\n",
              "      <td>...</td>\n",
              "      <td>...</td>\n",
              "      <td>...</td>\n",
              "      <td>...</td>\n",
              "      <td>...</td>\n",
              "      <td>...</td>\n",
              "      <td>...</td>\n",
              "      <td>...</td>\n",
              "      <td>...</td>\n",
              "      <td>...</td>\n",
              "      <td>...</td>\n",
              "    </tr>\n",
              "    <tr>\n",
              "      <th>287</th>\n",
              "      <td>1jtmpj0</td>\n",
              "      <td>US sidelines DOJ lawyer involved in deportatio...</td>\n",
              "      <td>swap_019</td>\n",
              "      <td></td>\n",
              "      <td>8826</td>\n",
              "      <td>0.97</td>\n",
              "      <td>203</td>\n",
              "      <td>1.744036e+09</td>\n",
              "      <td>2025-04-07 14:33:55</td>\n",
              "      <td>https://www.reuters.com/world/us/us-sidelines-...</td>\n",
              "      <td>https://reddit.com/r/news/comments/1jtmpj0/us_...</td>\n",
              "    </tr>\n",
              "    <tr>\n",
              "      <th>288</th>\n",
              "      <td>1jtlin6</td>\n",
              "      <td>Elon Musk's X to clamp down on parody accounts</td>\n",
              "      <td>Aggravating_Money992</td>\n",
              "      <td></td>\n",
              "      <td>19650</td>\n",
              "      <td>0.92</td>\n",
              "      <td>1758</td>\n",
              "      <td>1.744033e+09</td>\n",
              "      <td>2025-04-07 13:41:39</td>\n",
              "      <td>https://www.bbc.com/news/articles/c4g37elkrxdo</td>\n",
              "      <td>https://reddit.com/r/news/comments/1jtlin6/elo...</td>\n",
              "    </tr>\n",
              "    <tr>\n",
              "      <th>289</th>\n",
              "      <td>1jtixn7</td>\n",
              "      <td>Visa records of CMU international students ter...</td>\n",
              "      <td>apple_kicks</td>\n",
              "      <td></td>\n",
              "      <td>2330</td>\n",
              "      <td>0.95</td>\n",
              "      <td>288</td>\n",
              "      <td>1.744025e+09</td>\n",
              "      <td>2025-04-07 11:26:39</td>\n",
              "      <td>https://www.ourmidland.com/news/article/cmu-in...</td>\n",
              "      <td>https://reddit.com/r/news/comments/1jtixn7/vis...</td>\n",
              "    </tr>\n",
              "    <tr>\n",
              "      <th>290</th>\n",
              "      <td>1jtioi2</td>\n",
              "      <td>M23 rebels and Congolese government hold first...</td>\n",
              "      <td>Rogue_Eccentric</td>\n",
              "      <td></td>\n",
              "      <td>189</td>\n",
              "      <td>0.95</td>\n",
              "      <td>2</td>\n",
              "      <td>1.744024e+09</td>\n",
              "      <td>2025-04-07 11:10:55</td>\n",
              "      <td>https://www.zimsphere.co.zw/2025/04/m23-rebels...</td>\n",
              "      <td>https://reddit.com/r/news/comments/1jtioi2/m23...</td>\n",
              "    </tr>\n",
              "    <tr>\n",
              "      <th>291</th>\n",
              "      <td>1jth1lv</td>\n",
              "      <td>U.S. sent 238 migrants to Salvadoran mega-pris...</td>\n",
              "      <td>LadyMadonna_x6</td>\n",
              "      <td></td>\n",
              "      <td>45698</td>\n",
              "      <td>0.88</td>\n",
              "      <td>2978</td>\n",
              "      <td>1.744018e+09</td>\n",
              "      <td>2025-04-07 09:18:32</td>\n",
              "      <td>https://www.cbsnews.com/news/what-records-show...</td>\n",
              "      <td>https://reddit.com/r/news/comments/1jth1lv/us_...</td>\n",
              "    </tr>\n",
              "  </tbody>\n",
              "</table>\n",
              "<p>292 rows × 11 columns</p>\n",
              "</div>\n",
              "    <div class=\"colab-df-buttons\">\n",
              "\n",
              "  <div class=\"colab-df-container\">\n",
              "    <button class=\"colab-df-convert\" onclick=\"convertToInteractive('df-fb930956-0be4-4f0f-aa8e-b616d6c206c0')\"\n",
              "            title=\"Convert this dataframe to an interactive table.\"\n",
              "            style=\"display:none;\">\n",
              "\n",
              "  <svg xmlns=\"http://www.w3.org/2000/svg\" height=\"24px\" viewBox=\"0 -960 960 960\">\n",
              "    <path d=\"M120-120v-720h720v720H120Zm60-500h600v-160H180v160Zm220 220h160v-160H400v160Zm0 220h160v-160H400v160ZM180-400h160v-160H180v160Zm440 0h160v-160H620v160ZM180-180h160v-160H180v160Zm440 0h160v-160H620v160Z\"/>\n",
              "  </svg>\n",
              "    </button>\n",
              "\n",
              "  <style>\n",
              "    .colab-df-container {\n",
              "      display:flex;\n",
              "      gap: 12px;\n",
              "    }\n",
              "\n",
              "    .colab-df-convert {\n",
              "      background-color: #E8F0FE;\n",
              "      border: none;\n",
              "      border-radius: 50%;\n",
              "      cursor: pointer;\n",
              "      display: none;\n",
              "      fill: #1967D2;\n",
              "      height: 32px;\n",
              "      padding: 0 0 0 0;\n",
              "      width: 32px;\n",
              "    }\n",
              "\n",
              "    .colab-df-convert:hover {\n",
              "      background-color: #E2EBFA;\n",
              "      box-shadow: 0px 1px 2px rgba(60, 64, 67, 0.3), 0px 1px 3px 1px rgba(60, 64, 67, 0.15);\n",
              "      fill: #174EA6;\n",
              "    }\n",
              "\n",
              "    .colab-df-buttons div {\n",
              "      margin-bottom: 4px;\n",
              "    }\n",
              "\n",
              "    [theme=dark] .colab-df-convert {\n",
              "      background-color: #3B4455;\n",
              "      fill: #D2E3FC;\n",
              "    }\n",
              "\n",
              "    [theme=dark] .colab-df-convert:hover {\n",
              "      background-color: #434B5C;\n",
              "      box-shadow: 0px 1px 3px 1px rgba(0, 0, 0, 0.15);\n",
              "      filter: drop-shadow(0px 1px 2px rgba(0, 0, 0, 0.3));\n",
              "      fill: #FFFFFF;\n",
              "    }\n",
              "  </style>\n",
              "\n",
              "    <script>\n",
              "      const buttonEl =\n",
              "        document.querySelector('#df-fb930956-0be4-4f0f-aa8e-b616d6c206c0 button.colab-df-convert');\n",
              "      buttonEl.style.display =\n",
              "        google.colab.kernel.accessAllowed ? 'block' : 'none';\n",
              "\n",
              "      async function convertToInteractive(key) {\n",
              "        const element = document.querySelector('#df-fb930956-0be4-4f0f-aa8e-b616d6c206c0');\n",
              "        const dataTable =\n",
              "          await google.colab.kernel.invokeFunction('convertToInteractive',\n",
              "                                                    [key], {});\n",
              "        if (!dataTable) return;\n",
              "\n",
              "        const docLinkHtml = 'Like what you see? Visit the ' +\n",
              "          '<a target=\"_blank\" href=https://colab.research.google.com/notebooks/data_table.ipynb>data table notebook</a>'\n",
              "          + ' to learn more about interactive tables.';\n",
              "        element.innerHTML = '';\n",
              "        dataTable['output_type'] = 'display_data';\n",
              "        await google.colab.output.renderOutput(dataTable, element);\n",
              "        const docLink = document.createElement('div');\n",
              "        docLink.innerHTML = docLinkHtml;\n",
              "        element.appendChild(docLink);\n",
              "      }\n",
              "    </script>\n",
              "  </div>\n",
              "\n",
              "\n",
              "<div id=\"df-6eb6d2b2-6f4b-48f4-b6b0-257a9ecaea13\">\n",
              "  <button class=\"colab-df-quickchart\" onclick=\"quickchart('df-6eb6d2b2-6f4b-48f4-b6b0-257a9ecaea13')\"\n",
              "            title=\"Suggest charts\"\n",
              "            style=\"display:none;\">\n",
              "\n",
              "<svg xmlns=\"http://www.w3.org/2000/svg\" height=\"24px\"viewBox=\"0 0 24 24\"\n",
              "     width=\"24px\">\n",
              "    <g>\n",
              "        <path d=\"M19 3H5c-1.1 0-2 .9-2 2v14c0 1.1.9 2 2 2h14c1.1 0 2-.9 2-2V5c0-1.1-.9-2-2-2zM9 17H7v-7h2v7zm4 0h-2V7h2v10zm4 0h-2v-4h2v4z\"/>\n",
              "    </g>\n",
              "</svg>\n",
              "  </button>\n",
              "\n",
              "<style>\n",
              "  .colab-df-quickchart {\n",
              "      --bg-color: #E8F0FE;\n",
              "      --fill-color: #1967D2;\n",
              "      --hover-bg-color: #E2EBFA;\n",
              "      --hover-fill-color: #174EA6;\n",
              "      --disabled-fill-color: #AAA;\n",
              "      --disabled-bg-color: #DDD;\n",
              "  }\n",
              "\n",
              "  [theme=dark] .colab-df-quickchart {\n",
              "      --bg-color: #3B4455;\n",
              "      --fill-color: #D2E3FC;\n",
              "      --hover-bg-color: #434B5C;\n",
              "      --hover-fill-color: #FFFFFF;\n",
              "      --disabled-bg-color: #3B4455;\n",
              "      --disabled-fill-color: #666;\n",
              "  }\n",
              "\n",
              "  .colab-df-quickchart {\n",
              "    background-color: var(--bg-color);\n",
              "    border: none;\n",
              "    border-radius: 50%;\n",
              "    cursor: pointer;\n",
              "    display: none;\n",
              "    fill: var(--fill-color);\n",
              "    height: 32px;\n",
              "    padding: 0;\n",
              "    width: 32px;\n",
              "  }\n",
              "\n",
              "  .colab-df-quickchart:hover {\n",
              "    background-color: var(--hover-bg-color);\n",
              "    box-shadow: 0 1px 2px rgba(60, 64, 67, 0.3), 0 1px 3px 1px rgba(60, 64, 67, 0.15);\n",
              "    fill: var(--button-hover-fill-color);\n",
              "  }\n",
              "\n",
              "  .colab-df-quickchart-complete:disabled,\n",
              "  .colab-df-quickchart-complete:disabled:hover {\n",
              "    background-color: var(--disabled-bg-color);\n",
              "    fill: var(--disabled-fill-color);\n",
              "    box-shadow: none;\n",
              "  }\n",
              "\n",
              "  .colab-df-spinner {\n",
              "    border: 2px solid var(--fill-color);\n",
              "    border-color: transparent;\n",
              "    border-bottom-color: var(--fill-color);\n",
              "    animation:\n",
              "      spin 1s steps(1) infinite;\n",
              "  }\n",
              "\n",
              "  @keyframes spin {\n",
              "    0% {\n",
              "      border-color: transparent;\n",
              "      border-bottom-color: var(--fill-color);\n",
              "      border-left-color: var(--fill-color);\n",
              "    }\n",
              "    20% {\n",
              "      border-color: transparent;\n",
              "      border-left-color: var(--fill-color);\n",
              "      border-top-color: var(--fill-color);\n",
              "    }\n",
              "    30% {\n",
              "      border-color: transparent;\n",
              "      border-left-color: var(--fill-color);\n",
              "      border-top-color: var(--fill-color);\n",
              "      border-right-color: var(--fill-color);\n",
              "    }\n",
              "    40% {\n",
              "      border-color: transparent;\n",
              "      border-right-color: var(--fill-color);\n",
              "      border-top-color: var(--fill-color);\n",
              "    }\n",
              "    60% {\n",
              "      border-color: transparent;\n",
              "      border-right-color: var(--fill-color);\n",
              "    }\n",
              "    80% {\n",
              "      border-color: transparent;\n",
              "      border-right-color: var(--fill-color);\n",
              "      border-bottom-color: var(--fill-color);\n",
              "    }\n",
              "    90% {\n",
              "      border-color: transparent;\n",
              "      border-bottom-color: var(--fill-color);\n",
              "    }\n",
              "  }\n",
              "</style>\n",
              "\n",
              "  <script>\n",
              "    async function quickchart(key) {\n",
              "      const quickchartButtonEl =\n",
              "        document.querySelector('#' + key + ' button');\n",
              "      quickchartButtonEl.disabled = true;  // To prevent multiple clicks.\n",
              "      quickchartButtonEl.classList.add('colab-df-spinner');\n",
              "      try {\n",
              "        const charts = await google.colab.kernel.invokeFunction(\n",
              "            'suggestCharts', [key], {});\n",
              "      } catch (error) {\n",
              "        console.error('Error during call to suggestCharts:', error);\n",
              "      }\n",
              "      quickchartButtonEl.classList.remove('colab-df-spinner');\n",
              "      quickchartButtonEl.classList.add('colab-df-quickchart-complete');\n",
              "    }\n",
              "    (() => {\n",
              "      let quickchartButtonEl =\n",
              "        document.querySelector('#df-6eb6d2b2-6f4b-48f4-b6b0-257a9ecaea13 button');\n",
              "      quickchartButtonEl.style.display =\n",
              "        google.colab.kernel.accessAllowed ? 'block' : 'none';\n",
              "    })();\n",
              "  </script>\n",
              "</div>\n",
              "\n",
              "  <div id=\"id_d50a9b39-0189-454a-ba1c-29be00c83ccd\">\n",
              "    <style>\n",
              "      .colab-df-generate {\n",
              "        background-color: #E8F0FE;\n",
              "        border: none;\n",
              "        border-radius: 50%;\n",
              "        cursor: pointer;\n",
              "        display: none;\n",
              "        fill: #1967D2;\n",
              "        height: 32px;\n",
              "        padding: 0 0 0 0;\n",
              "        width: 32px;\n",
              "      }\n",
              "\n",
              "      .colab-df-generate:hover {\n",
              "        background-color: #E2EBFA;\n",
              "        box-shadow: 0px 1px 2px rgba(60, 64, 67, 0.3), 0px 1px 3px 1px rgba(60, 64, 67, 0.15);\n",
              "        fill: #174EA6;\n",
              "      }\n",
              "\n",
              "      [theme=dark] .colab-df-generate {\n",
              "        background-color: #3B4455;\n",
              "        fill: #D2E3FC;\n",
              "      }\n",
              "\n",
              "      [theme=dark] .colab-df-generate:hover {\n",
              "        background-color: #434B5C;\n",
              "        box-shadow: 0px 1px 3px 1px rgba(0, 0, 0, 0.15);\n",
              "        filter: drop-shadow(0px 1px 2px rgba(0, 0, 0, 0.3));\n",
              "        fill: #FFFFFF;\n",
              "      }\n",
              "    </style>\n",
              "    <button class=\"colab-df-generate\" onclick=\"generateWithVariable('df')\"\n",
              "            title=\"Generate code using this dataframe.\"\n",
              "            style=\"display:none;\">\n",
              "\n",
              "  <svg xmlns=\"http://www.w3.org/2000/svg\" height=\"24px\"viewBox=\"0 0 24 24\"\n",
              "       width=\"24px\">\n",
              "    <path d=\"M7,19H8.4L18.45,9,17,7.55,7,17.6ZM5,21V16.75L18.45,3.32a2,2,0,0,1,2.83,0l1.4,1.43a1.91,1.91,0,0,1,.58,1.4,1.91,1.91,0,0,1-.58,1.4L9.25,21ZM18.45,9,17,7.55Zm-12,3A5.31,5.31,0,0,0,4.9,8.1,5.31,5.31,0,0,0,1,6.5,5.31,5.31,0,0,0,4.9,4.9,5.31,5.31,0,0,0,6.5,1,5.31,5.31,0,0,0,8.1,4.9,5.31,5.31,0,0,0,12,6.5,5.46,5.46,0,0,0,6.5,12Z\"/>\n",
              "  </svg>\n",
              "    </button>\n",
              "    <script>\n",
              "      (() => {\n",
              "      const buttonEl =\n",
              "        document.querySelector('#id_d50a9b39-0189-454a-ba1c-29be00c83ccd button.colab-df-generate');\n",
              "      buttonEl.style.display =\n",
              "        google.colab.kernel.accessAllowed ? 'block' : 'none';\n",
              "\n",
              "      buttonEl.onclick = () => {\n",
              "        google.colab.notebook.generateWithVariable('df');\n",
              "      }\n",
              "      })();\n",
              "    </script>\n",
              "  </div>\n",
              "\n",
              "    </div>\n",
              "  </div>\n"
            ],
            "application/vnd.google.colaboratory.intrinsic+json": {
              "type": "dataframe",
              "variable_name": "df",
              "summary": "{\n  \"name\": \"df\",\n  \"rows\": 292,\n  \"fields\": [\n    {\n      \"column\": \"id\",\n      \"properties\": {\n        \"dtype\": \"string\",\n        \"num_unique_values\": 292,\n        \"samples\": [\n          \"1k13obj\",\n          \"1juhkbp\",\n          \"1k2rgdw\"\n        ],\n        \"semantic_type\": \"\",\n        \"description\": \"\"\n      }\n    },\n    {\n      \"column\": \"title\",\n      \"properties\": {\n        \"dtype\": \"string\",\n        \"num_unique_values\": 292,\n        \"samples\": [\n          \"Judge scraps US rule capping credit card late fees at $8\",\n          \"Supreme Court halts a judge\\u2019s order to reinstate federal probationary workers\",\n          \"Families displaced after fatal house explosion\"\n        ],\n        \"semantic_type\": \"\",\n        \"description\": \"\"\n      }\n    },\n    {\n      \"column\": \"author\",\n      \"properties\": {\n        \"dtype\": \"string\",\n        \"num_unique_values\": 188,\n        \"samples\": [\n          \"gooniesgb\",\n          \"No_Signal3789\",\n          \"lastdarknight\"\n        ],\n        \"semantic_type\": \"\",\n        \"description\": \"\"\n      }\n    },\n    {\n      \"column\": \"selftext\",\n      \"properties\": {\n        \"dtype\": \"object\",\n        \"num_unique_values\": 1,\n        \"samples\": [\n          \"\"\n        ],\n        \"semantic_type\": \"\",\n        \"description\": \"\"\n      }\n    },\n    {\n      \"column\": \"score\",\n      \"properties\": {\n        \"dtype\": \"number\",\n        \"std\": 11864,\n        \"min\": 0,\n        \"max\": 66765,\n        \"num_unique_values\": 287,\n        \"samples\": [\n          1028\n        ],\n        \"semantic_type\": \"\",\n        \"description\": \"\"\n      }\n    },\n    {\n      \"column\": \"upvote_ratio\",\n      \"properties\": {\n        \"dtype\": \"number\",\n        \"std\": 0.04527324760951713,\n        \"min\": 0.46,\n        \"max\": 0.99,\n        \"num_unique_values\": 17,\n        \"samples\": [\n          0.93\n        ],\n        \"semantic_type\": \"\",\n        \"description\": \"\"\n      }\n    },\n    {\n      \"column\": \"num_comments\",\n      \"properties\": {\n        \"dtype\": \"number\",\n        \"std\": 628,\n        \"min\": 2,\n        \"max\": 5006,\n        \"num_unique_values\": 239,\n        \"samples\": [\n          252\n        ],\n        \"semantic_type\": \"\",\n        \"description\": \"\"\n      }\n    },\n    {\n      \"column\": \"created_utc\",\n      \"properties\": {\n        \"dtype\": \"number\",\n        \"std\": 384747.45826055505,\n        \"min\": 1744017512.0,\n        \"max\": 1745336787.0,\n        \"num_unique_values\": 292,\n        \"samples\": [\n          1744861733.0\n        ],\n        \"semantic_type\": \"\",\n        \"description\": \"\"\n      }\n    },\n    {\n      \"column\": \"created_date\",\n      \"properties\": {\n        \"dtype\": \"object\",\n        \"num_unique_values\": 292,\n        \"samples\": [\n          \"2025-04-17 03:48:53\"\n        ],\n        \"semantic_type\": \"\",\n        \"description\": \"\"\n      }\n    },\n    {\n      \"column\": \"url\",\n      \"properties\": {\n        \"dtype\": \"string\",\n        \"num_unique_values\": 292,\n        \"samples\": [\n          \"https://www.reuters.com/business/finance/judge-scraps-us-rule-capping-credit-card-late-fees-8-2025-04-15/\"\n        ],\n        \"semantic_type\": \"\",\n        \"description\": \"\"\n      }\n    },\n    {\n      \"column\": \"permalink\",\n      \"properties\": {\n        \"dtype\": \"string\",\n        \"num_unique_values\": 292,\n        \"samples\": [\n          \"https://reddit.com/r/news/comments/1k13obj/judge_scraps_us_rule_capping_credit_card_late/\"\n        ],\n        \"semantic_type\": \"\",\n        \"description\": \"\"\n      }\n    }\n  ]\n}"
            }
          },
          "metadata": {},
          "execution_count": 12
        }
      ]
    },
    {
      "cell_type": "markdown",
      "source": [
        "- Explore df"
      ],
      "metadata": {
        "id": "sjvHiVUQ54pS"
      }
    },
    {
      "cell_type": "code",
      "source": [
        "df.columns\n",
        "df.shape\n",
        "df.info()\n",
        "df.head()"
      ],
      "metadata": {
        "colab": {
          "base_uri": "https://localhost:8080/",
          "height": 973
        },
        "id": "4DKaj7aUfnE5",
        "outputId": "18ac2c84-635b-467c-89d4-7d5a558e5c28"
      },
      "execution_count": null,
      "outputs": [
        {
          "output_type": "stream",
          "name": "stdout",
          "text": [
            "<class 'pandas.core.frame.DataFrame'>\n",
            "RangeIndex: 288 entries, 0 to 287\n",
            "Data columns (total 11 columns):\n",
            " #   Column        Non-Null Count  Dtype  \n",
            "---  ------        --------------  -----  \n",
            " 0   id            288 non-null    object \n",
            " 1   title         288 non-null    object \n",
            " 2   author        288 non-null    object \n",
            " 3   selftext      288 non-null    object \n",
            " 4   score         288 non-null    int64  \n",
            " 5   upvote_ratio  288 non-null    float64\n",
            " 6   num_comments  288 non-null    int64  \n",
            " 7   created_utc   288 non-null    float64\n",
            " 8   created_date  288 non-null    object \n",
            " 9   url           288 non-null    object \n",
            " 10  permalink     288 non-null    object \n",
            "dtypes: float64(2), int64(2), object(7)\n",
            "memory usage: 24.9+ KB\n"
          ]
        },
        {
          "output_type": "execute_result",
          "data": {
            "text/plain": [
              "        id                                              title  \\\n",
              "0  1k4u8n4  RFK Jr.'s autism study to amass medical record...   \n",
              "1  1k4t93l  Person found on ‘elevated surface’ inside Trum...   \n",
              "2  1k4rjt5  China retreats from US private equity investme...   \n",
              "3  1k4p3ey  Student loans in default to be referred to deb...   \n",
              "4  1k4norc      Nadine Menendez found guilty in bribery trial   \n",
              "\n",
              "              author selftext  score  upvote_ratio  num_comments  \\\n",
              "0          tsagdiyev              20          0.92             7   \n",
              "1         HellaHaram            1169          0.95           108   \n",
              "2              p_pio            1794          0.98           107   \n",
              "3     stubborn_facts            8042          0.98           892   \n",
              "4  StupendousMan1995             743          0.98            17   \n",
              "\n",
              "    created_utc         created_date  \\\n",
              "0  1.745285e+09  2025-04-22 01:20:47   \n",
              "1  1.745282e+09  2025-04-22 00:31:44   \n",
              "2  1.745277e+09  2025-04-21 23:11:19   \n",
              "3  1.745271e+09  2025-04-21 21:24:03   \n",
              "4  1.745267e+09  2025-04-21 20:26:12   \n",
              "\n",
              "                                                 url  \\\n",
              "0  https://www.cbsnews.com/news/rfk-jr-autism-stu...   \n",
              "1  https://www.ctvnews.ca/world/article/person-fo...   \n",
              "2  https://www.reuters.com/world/china/china-retr...   \n",
              "3  https://apnews.com/article/student-loan-debt-d...   \n",
              "4  https://www.nbcnewyork.com/news/local/crime-an...   \n",
              "\n",
              "                                           permalink  \n",
              "0  https://reddit.com/r/news/comments/1k4u8n4/rfk...  \n",
              "1  https://reddit.com/r/news/comments/1k4t93l/per...  \n",
              "2  https://reddit.com/r/news/comments/1k4rjt5/chi...  \n",
              "3  https://reddit.com/r/news/comments/1k4p3ey/stu...  \n",
              "4  https://reddit.com/r/news/comments/1k4norc/nad...  "
            ],
            "text/html": [
              "\n",
              "  <div id=\"df-2f03d68a-c477-4900-ab20-1db196e17b1a\" class=\"colab-df-container\">\n",
              "    <div>\n",
              "<style scoped>\n",
              "    .dataframe tbody tr th:only-of-type {\n",
              "        vertical-align: middle;\n",
              "    }\n",
              "\n",
              "    .dataframe tbody tr th {\n",
              "        vertical-align: top;\n",
              "    }\n",
              "\n",
              "    .dataframe thead th {\n",
              "        text-align: right;\n",
              "    }\n",
              "</style>\n",
              "<table border=\"1\" class=\"dataframe\">\n",
              "  <thead>\n",
              "    <tr style=\"text-align: right;\">\n",
              "      <th></th>\n",
              "      <th>id</th>\n",
              "      <th>title</th>\n",
              "      <th>author</th>\n",
              "      <th>selftext</th>\n",
              "      <th>score</th>\n",
              "      <th>upvote_ratio</th>\n",
              "      <th>num_comments</th>\n",
              "      <th>created_utc</th>\n",
              "      <th>created_date</th>\n",
              "      <th>url</th>\n",
              "      <th>permalink</th>\n",
              "    </tr>\n",
              "  </thead>\n",
              "  <tbody>\n",
              "    <tr>\n",
              "      <th>0</th>\n",
              "      <td>1k4u8n4</td>\n",
              "      <td>RFK Jr.'s autism study to amass medical record...</td>\n",
              "      <td>tsagdiyev</td>\n",
              "      <td></td>\n",
              "      <td>20</td>\n",
              "      <td>0.92</td>\n",
              "      <td>7</td>\n",
              "      <td>1.745285e+09</td>\n",
              "      <td>2025-04-22 01:20:47</td>\n",
              "      <td>https://www.cbsnews.com/news/rfk-jr-autism-stu...</td>\n",
              "      <td>https://reddit.com/r/news/comments/1k4u8n4/rfk...</td>\n",
              "    </tr>\n",
              "    <tr>\n",
              "      <th>1</th>\n",
              "      <td>1k4t93l</td>\n",
              "      <td>Person found on ‘elevated surface’ inside Trum...</td>\n",
              "      <td>HellaHaram</td>\n",
              "      <td></td>\n",
              "      <td>1169</td>\n",
              "      <td>0.95</td>\n",
              "      <td>108</td>\n",
              "      <td>1.745282e+09</td>\n",
              "      <td>2025-04-22 00:31:44</td>\n",
              "      <td>https://www.ctvnews.ca/world/article/person-fo...</td>\n",
              "      <td>https://reddit.com/r/news/comments/1k4t93l/per...</td>\n",
              "    </tr>\n",
              "    <tr>\n",
              "      <th>2</th>\n",
              "      <td>1k4rjt5</td>\n",
              "      <td>China retreats from US private equity investme...</td>\n",
              "      <td>p_pio</td>\n",
              "      <td></td>\n",
              "      <td>1794</td>\n",
              "      <td>0.98</td>\n",
              "      <td>107</td>\n",
              "      <td>1.745277e+09</td>\n",
              "      <td>2025-04-21 23:11:19</td>\n",
              "      <td>https://www.reuters.com/world/china/china-retr...</td>\n",
              "      <td>https://reddit.com/r/news/comments/1k4rjt5/chi...</td>\n",
              "    </tr>\n",
              "    <tr>\n",
              "      <th>3</th>\n",
              "      <td>1k4p3ey</td>\n",
              "      <td>Student loans in default to be referred to deb...</td>\n",
              "      <td>stubborn_facts</td>\n",
              "      <td></td>\n",
              "      <td>8042</td>\n",
              "      <td>0.98</td>\n",
              "      <td>892</td>\n",
              "      <td>1.745271e+09</td>\n",
              "      <td>2025-04-21 21:24:03</td>\n",
              "      <td>https://apnews.com/article/student-loan-debt-d...</td>\n",
              "      <td>https://reddit.com/r/news/comments/1k4p3ey/stu...</td>\n",
              "    </tr>\n",
              "    <tr>\n",
              "      <th>4</th>\n",
              "      <td>1k4norc</td>\n",
              "      <td>Nadine Menendez found guilty in bribery trial</td>\n",
              "      <td>StupendousMan1995</td>\n",
              "      <td></td>\n",
              "      <td>743</td>\n",
              "      <td>0.98</td>\n",
              "      <td>17</td>\n",
              "      <td>1.745267e+09</td>\n",
              "      <td>2025-04-21 20:26:12</td>\n",
              "      <td>https://www.nbcnewyork.com/news/local/crime-an...</td>\n",
              "      <td>https://reddit.com/r/news/comments/1k4norc/nad...</td>\n",
              "    </tr>\n",
              "  </tbody>\n",
              "</table>\n",
              "</div>\n",
              "    <div class=\"colab-df-buttons\">\n",
              "\n",
              "  <div class=\"colab-df-container\">\n",
              "    <button class=\"colab-df-convert\" onclick=\"convertToInteractive('df-2f03d68a-c477-4900-ab20-1db196e17b1a')\"\n",
              "            title=\"Convert this dataframe to an interactive table.\"\n",
              "            style=\"display:none;\">\n",
              "\n",
              "  <svg xmlns=\"http://www.w3.org/2000/svg\" height=\"24px\" viewBox=\"0 -960 960 960\">\n",
              "    <path d=\"M120-120v-720h720v720H120Zm60-500h600v-160H180v160Zm220 220h160v-160H400v160Zm0 220h160v-160H400v160ZM180-400h160v-160H180v160Zm440 0h160v-160H620v160ZM180-180h160v-160H180v160Zm440 0h160v-160H620v160Z\"/>\n",
              "  </svg>\n",
              "    </button>\n",
              "\n",
              "  <style>\n",
              "    .colab-df-container {\n",
              "      display:flex;\n",
              "      gap: 12px;\n",
              "    }\n",
              "\n",
              "    .colab-df-convert {\n",
              "      background-color: #E8F0FE;\n",
              "      border: none;\n",
              "      border-radius: 50%;\n",
              "      cursor: pointer;\n",
              "      display: none;\n",
              "      fill: #1967D2;\n",
              "      height: 32px;\n",
              "      padding: 0 0 0 0;\n",
              "      width: 32px;\n",
              "    }\n",
              "\n",
              "    .colab-df-convert:hover {\n",
              "      background-color: #E2EBFA;\n",
              "      box-shadow: 0px 1px 2px rgba(60, 64, 67, 0.3), 0px 1px 3px 1px rgba(60, 64, 67, 0.15);\n",
              "      fill: #174EA6;\n",
              "    }\n",
              "\n",
              "    .colab-df-buttons div {\n",
              "      margin-bottom: 4px;\n",
              "    }\n",
              "\n",
              "    [theme=dark] .colab-df-convert {\n",
              "      background-color: #3B4455;\n",
              "      fill: #D2E3FC;\n",
              "    }\n",
              "\n",
              "    [theme=dark] .colab-df-convert:hover {\n",
              "      background-color: #434B5C;\n",
              "      box-shadow: 0px 1px 3px 1px rgba(0, 0, 0, 0.15);\n",
              "      filter: drop-shadow(0px 1px 2px rgba(0, 0, 0, 0.3));\n",
              "      fill: #FFFFFF;\n",
              "    }\n",
              "  </style>\n",
              "\n",
              "    <script>\n",
              "      const buttonEl =\n",
              "        document.querySelector('#df-2f03d68a-c477-4900-ab20-1db196e17b1a button.colab-df-convert');\n",
              "      buttonEl.style.display =\n",
              "        google.colab.kernel.accessAllowed ? 'block' : 'none';\n",
              "\n",
              "      async function convertToInteractive(key) {\n",
              "        const element = document.querySelector('#df-2f03d68a-c477-4900-ab20-1db196e17b1a');\n",
              "        const dataTable =\n",
              "          await google.colab.kernel.invokeFunction('convertToInteractive',\n",
              "                                                    [key], {});\n",
              "        if (!dataTable) return;\n",
              "\n",
              "        const docLinkHtml = 'Like what you see? Visit the ' +\n",
              "          '<a target=\"_blank\" href=https://colab.research.google.com/notebooks/data_table.ipynb>data table notebook</a>'\n",
              "          + ' to learn more about interactive tables.';\n",
              "        element.innerHTML = '';\n",
              "        dataTable['output_type'] = 'display_data';\n",
              "        await google.colab.output.renderOutput(dataTable, element);\n",
              "        const docLink = document.createElement('div');\n",
              "        docLink.innerHTML = docLinkHtml;\n",
              "        element.appendChild(docLink);\n",
              "      }\n",
              "    </script>\n",
              "  </div>\n",
              "\n",
              "\n",
              "<div id=\"df-260dc225-4df7-4c03-a56a-334624b308ac\">\n",
              "  <button class=\"colab-df-quickchart\" onclick=\"quickchart('df-260dc225-4df7-4c03-a56a-334624b308ac')\"\n",
              "            title=\"Suggest charts\"\n",
              "            style=\"display:none;\">\n",
              "\n",
              "<svg xmlns=\"http://www.w3.org/2000/svg\" height=\"24px\"viewBox=\"0 0 24 24\"\n",
              "     width=\"24px\">\n",
              "    <g>\n",
              "        <path d=\"M19 3H5c-1.1 0-2 .9-2 2v14c0 1.1.9 2 2 2h14c1.1 0 2-.9 2-2V5c0-1.1-.9-2-2-2zM9 17H7v-7h2v7zm4 0h-2V7h2v10zm4 0h-2v-4h2v4z\"/>\n",
              "    </g>\n",
              "</svg>\n",
              "  </button>\n",
              "\n",
              "<style>\n",
              "  .colab-df-quickchart {\n",
              "      --bg-color: #E8F0FE;\n",
              "      --fill-color: #1967D2;\n",
              "      --hover-bg-color: #E2EBFA;\n",
              "      --hover-fill-color: #174EA6;\n",
              "      --disabled-fill-color: #AAA;\n",
              "      --disabled-bg-color: #DDD;\n",
              "  }\n",
              "\n",
              "  [theme=dark] .colab-df-quickchart {\n",
              "      --bg-color: #3B4455;\n",
              "      --fill-color: #D2E3FC;\n",
              "      --hover-bg-color: #434B5C;\n",
              "      --hover-fill-color: #FFFFFF;\n",
              "      --disabled-bg-color: #3B4455;\n",
              "      --disabled-fill-color: #666;\n",
              "  }\n",
              "\n",
              "  .colab-df-quickchart {\n",
              "    background-color: var(--bg-color);\n",
              "    border: none;\n",
              "    border-radius: 50%;\n",
              "    cursor: pointer;\n",
              "    display: none;\n",
              "    fill: var(--fill-color);\n",
              "    height: 32px;\n",
              "    padding: 0;\n",
              "    width: 32px;\n",
              "  }\n",
              "\n",
              "  .colab-df-quickchart:hover {\n",
              "    background-color: var(--hover-bg-color);\n",
              "    box-shadow: 0 1px 2px rgba(60, 64, 67, 0.3), 0 1px 3px 1px rgba(60, 64, 67, 0.15);\n",
              "    fill: var(--button-hover-fill-color);\n",
              "  }\n",
              "\n",
              "  .colab-df-quickchart-complete:disabled,\n",
              "  .colab-df-quickchart-complete:disabled:hover {\n",
              "    background-color: var(--disabled-bg-color);\n",
              "    fill: var(--disabled-fill-color);\n",
              "    box-shadow: none;\n",
              "  }\n",
              "\n",
              "  .colab-df-spinner {\n",
              "    border: 2px solid var(--fill-color);\n",
              "    border-color: transparent;\n",
              "    border-bottom-color: var(--fill-color);\n",
              "    animation:\n",
              "      spin 1s steps(1) infinite;\n",
              "  }\n",
              "\n",
              "  @keyframes spin {\n",
              "    0% {\n",
              "      border-color: transparent;\n",
              "      border-bottom-color: var(--fill-color);\n",
              "      border-left-color: var(--fill-color);\n",
              "    }\n",
              "    20% {\n",
              "      border-color: transparent;\n",
              "      border-left-color: var(--fill-color);\n",
              "      border-top-color: var(--fill-color);\n",
              "    }\n",
              "    30% {\n",
              "      border-color: transparent;\n",
              "      border-left-color: var(--fill-color);\n",
              "      border-top-color: var(--fill-color);\n",
              "      border-right-color: var(--fill-color);\n",
              "    }\n",
              "    40% {\n",
              "      border-color: transparent;\n",
              "      border-right-color: var(--fill-color);\n",
              "      border-top-color: var(--fill-color);\n",
              "    }\n",
              "    60% {\n",
              "      border-color: transparent;\n",
              "      border-right-color: var(--fill-color);\n",
              "    }\n",
              "    80% {\n",
              "      border-color: transparent;\n",
              "      border-right-color: var(--fill-color);\n",
              "      border-bottom-color: var(--fill-color);\n",
              "    }\n",
              "    90% {\n",
              "      border-color: transparent;\n",
              "      border-bottom-color: var(--fill-color);\n",
              "    }\n",
              "  }\n",
              "</style>\n",
              "\n",
              "  <script>\n",
              "    async function quickchart(key) {\n",
              "      const quickchartButtonEl =\n",
              "        document.querySelector('#' + key + ' button');\n",
              "      quickchartButtonEl.disabled = true;  // To prevent multiple clicks.\n",
              "      quickchartButtonEl.classList.add('colab-df-spinner');\n",
              "      try {\n",
              "        const charts = await google.colab.kernel.invokeFunction(\n",
              "            'suggestCharts', [key], {});\n",
              "      } catch (error) {\n",
              "        console.error('Error during call to suggestCharts:', error);\n",
              "      }\n",
              "      quickchartButtonEl.classList.remove('colab-df-spinner');\n",
              "      quickchartButtonEl.classList.add('colab-df-quickchart-complete');\n",
              "    }\n",
              "    (() => {\n",
              "      let quickchartButtonEl =\n",
              "        document.querySelector('#df-260dc225-4df7-4c03-a56a-334624b308ac button');\n",
              "      quickchartButtonEl.style.display =\n",
              "        google.colab.kernel.accessAllowed ? 'block' : 'none';\n",
              "    })();\n",
              "  </script>\n",
              "</div>\n",
              "\n",
              "    </div>\n",
              "  </div>\n"
            ],
            "application/vnd.google.colaboratory.intrinsic+json": {
              "type": "dataframe",
              "variable_name": "df",
              "summary": "{\n  \"name\": \"df\",\n  \"rows\": 288,\n  \"fields\": [\n    {\n      \"column\": \"id\",\n      \"properties\": {\n        \"dtype\": \"string\",\n        \"num_unique_values\": 288,\n        \"samples\": [\n          \"1k2eu59\",\n          \"1jyaapd\",\n          \"1juhjix\"\n        ],\n        \"semantic_type\": \"\",\n        \"description\": \"\"\n      }\n    },\n    {\n      \"column\": \"title\",\n      \"properties\": {\n        \"dtype\": \"string\",\n        \"num_unique_values\": 288,\n        \"samples\": [\n          \"Man arrested by ICE in Massachusetts can't be moved without notice, judge rules\",\n          \"Police: Someone set fire to Pennsylvania governor's residence; no one was injured\",\n          \"Keystone Pipeline ruptures near Fort Ransom\"\n        ],\n        \"semantic_type\": \"\",\n        \"description\": \"\"\n      }\n    },\n    {\n      \"column\": \"author\",\n      \"properties\": {\n        \"dtype\": \"string\",\n        \"num_unique_values\": 188,\n        \"samples\": [\n          \"gooniesgb\",\n          \"ChocolateHoneycomb\",\n          \"ComfortableAcadia252\"\n        ],\n        \"semantic_type\": \"\",\n        \"description\": \"\"\n      }\n    },\n    {\n      \"column\": \"selftext\",\n      \"properties\": {\n        \"dtype\": \"object\",\n        \"num_unique_values\": 1,\n        \"samples\": [\n          \"\"\n        ],\n        \"semantic_type\": \"\",\n        \"description\": \"\"\n      }\n    },\n    {\n      \"column\": \"score\",\n      \"properties\": {\n        \"dtype\": \"number\",\n        \"std\": 11718,\n        \"min\": 0,\n        \"max\": 66441,\n        \"num_unique_values\": 286,\n        \"samples\": [\n          8117\n        ],\n        \"semantic_type\": \"\",\n        \"description\": \"\"\n      }\n    },\n    {\n      \"column\": \"upvote_ratio\",\n      \"properties\": {\n        \"dtype\": \"number\",\n        \"std\": 0.0438330954140944,\n        \"min\": 0.46,\n        \"max\": 0.99,\n        \"num_unique_values\": 17,\n        \"samples\": [\n          0.92\n        ],\n        \"semantic_type\": \"\",\n        \"description\": \"\"\n      }\n    },\n    {\n      \"column\": \"num_comments\",\n      \"properties\": {\n        \"dtype\": \"number\",\n        \"std\": 625,\n        \"min\": 1,\n        \"max\": 5008,\n        \"num_unique_values\": 235,\n        \"samples\": [\n          181\n        ],\n        \"semantic_type\": \"\",\n        \"description\": \"\"\n      }\n    },\n    {\n      \"column\": \"created_utc\",\n      \"properties\": {\n        \"dtype\": \"number\",\n        \"std\": 371742.16190367826,\n        \"min\": 1744017512.0,\n        \"max\": 1745284847.0,\n        \"num_unique_values\": 288,\n        \"samples\": [\n          1745008237.0\n        ],\n        \"semantic_type\": \"\",\n        \"description\": \"\"\n      }\n    },\n    {\n      \"column\": \"created_date\",\n      \"properties\": {\n        \"dtype\": \"object\",\n        \"num_unique_values\": 288,\n        \"samples\": [\n          \"2025-04-18 20:30:37\"\n        ],\n        \"semantic_type\": \"\",\n        \"description\": \"\"\n      }\n    },\n    {\n      \"column\": \"url\",\n      \"properties\": {\n        \"dtype\": \"string\",\n        \"num_unique_values\": 288,\n        \"samples\": [\n          \"https://www.cbsnews.com/boston/news/new-bedford-ice-arrest-window-smashed/\"\n        ],\n        \"semantic_type\": \"\",\n        \"description\": \"\"\n      }\n    },\n    {\n      \"column\": \"permalink\",\n      \"properties\": {\n        \"dtype\": \"string\",\n        \"num_unique_values\": 288,\n        \"samples\": [\n          \"https://reddit.com/r/news/comments/1k2eu59/man_arrested_by_ice_in_massachusetts_cant_be/\"\n        ],\n        \"semantic_type\": \"\",\n        \"description\": \"\"\n      }\n    }\n  ]\n}"
            }
          },
          "metadata": {},
          "execution_count": 150
        }
      ]
    },
    {
      "cell_type": "markdown",
      "source": [
        "-  Save to a CSV file named 'reddit_posts.csv'"
      ],
      "metadata": {
        "id": "flprP4Jn6FR2"
      }
    },
    {
      "cell_type": "code",
      "source": [
        "df.to_csv('reddit_posts.csv', index=False)  # Save to a CSV file named 'reddit_posts.csv'"
      ],
      "metadata": {
        "id": "aggw5lW759r7"
      },
      "execution_count": 13,
      "outputs": []
    },
    {
      "cell_type": "markdown",
      "source": [
        "# Search Reddit Posts by Keyword"
      ],
      "metadata": {
        "id": "5lPy1VzwHVUC"
      }
    },
    {
      "cell_type": "markdown",
      "source": [
        "- `search()`: Title + Body Search\n",
        "- sort: \"relevance\", \"hot\", \"top\", \"new\", or \"comments\". (default: \"relevance\").\n",
        "- time_filter: \"all\", \"day\", \"hour\", \"month\", \"week\", or \"year\" (default: \"all\").\n",
        "- returns the first ~250 search matches"
      ],
      "metadata": {
        "id": "9Q9hRpOAHkq9"
      }
    },
    {
      "cell_type": "markdown",
      "source": [
        "| Operator          | Meaning                     |\n",
        "|-------------------|-----------------------------|\n",
        "| `OR`  | At least one term must appear |\n",
        "| `AND`             | Both terms must appear      |\n",
        "| `\"`               | Exact phrase                |\n",
        "| `-word`           | Exclude that word           |\n",
        "| `title:\"term\"`    | Search only title           |\n",
        "| `selftext:\"term\"` | Search only body            |"
      ],
      "metadata": {
        "id": "wSgY6eZ48nyE"
      }
    },
    {
      "cell_type": "code",
      "source": [
        "#queries: 'inflation', 'inflation OR sport', 'inflation AND us', '\"inflation fall\"', 'inflation -US', 'inflation -US -cut', 'selftext:\"inflation\"',\n",
        "i = 0\n",
        "for submission in reddit.subreddit(\"news\").search(query='inflation', sort=\"relevance\", time_filter=\"all\", limit=10):\n",
        "    print(submission.id)\n",
        "    print(submission.title)\n",
        "    print(submission.selftext)\n",
        "    print('reddit.com'+submission.permalink)\n",
        "    print(\"-\" * 80)\n",
        "    i += 1\n",
        "\n",
        "print('len:',i)"
      ],
      "metadata": {
        "colab": {
          "base_uri": "https://localhost:8080/"
        },
        "id": "46xe08SIugzb",
        "outputId": "712aeed4-24c1-4fd3-9844-7b0fb3e44d14"
      },
      "execution_count": null,
      "outputs": [
        {
          "output_type": "stream",
          "name": "stdout",
          "text": [
            "1jpz95n\n",
            "Trump announces sweeping new tariffs to promote US manufacturing, risking inflation and trade wars\n",
            "\n",
            "reddit.com/r/news/comments/1jpz95n/trump_announces_sweeping_new_tariffs_to_promote/\n",
            "--------------------------------------------------------------------------------\n",
            "1insgf2\n",
            "US inflation heats up to 3% for first time since June\n",
            "\n",
            "reddit.com/r/news/comments/1insgf2/us_inflation_heats_up_to_3_for_first_time_since/\n",
            "--------------------------------------------------------------------------------\n",
            "1cwo8go\n",
            "Target to lower prices on about 5,000 basic goods as inflation cuts into budgets\n",
            "\n",
            "reddit.com/r/news/comments/1cwo8go/target_to_lower_prices_on_about_5000_basic_goods/\n",
            "--------------------------------------------------------------------------------\n",
            "1fjzgkq\n",
            "Federal Reserve cuts key rate by sizable half-point, signaling end to its inflation fight\n",
            "\n",
            "reddit.com/r/news/comments/1fjzgkq/federal_reserve_cuts_key_rate_by_sizable/\n",
            "--------------------------------------------------------------------------------\n",
            "11b05g2\n",
            "Fed can't tame inflation without 'significantly' more hikes that will cause a recession, paper says\n",
            "\n",
            "reddit.com/r/news/comments/11b05g2/fed_cant_tame_inflation_without_significantly/\n",
            "--------------------------------------------------------------------------------\n",
            "12wvixw\n",
            "Car Dealer Markups Helped Drive Inflation, Study Finds\n",
            "\n",
            "reddit.com/r/news/comments/12wvixw/car_dealer_markups_helped_drive_inflation_study/\n",
            "--------------------------------------------------------------------------------\n",
            "1fedyg4\n",
            "Consumer inflation slows to lowest rate since February 2021\n",
            "\n",
            "reddit.com/r/news/comments/1fedyg4/consumer_inflation_slows_to_lowest_rate_since/\n",
            "--------------------------------------------------------------------------------\n",
            "vy240m\n",
            "Inflation rose 9.1% in June, even more than expected, as price pressures intensify\n",
            "\n",
            "reddit.com/r/news/comments/vy240m/inflation_rose_91_in_june_even_more_than_expected/\n",
            "--------------------------------------------------------------------------------\n",
            "v96txq\n",
            "Inflation rose 8.6% in May, highest since 1981\n",
            "\n",
            "reddit.com/r/news/comments/v96txq/inflation_rose_86_in_may_highest_since_1981/\n",
            "--------------------------------------------------------------------------------\n",
            "t9hk5d\n",
            "As inflation heats up, 64% of Americans are now living paycheck to paycheck\n",
            "\n",
            "reddit.com/r/news/comments/t9hk5d/as_inflation_heats_up_64_of_americans_are_now/\n",
            "--------------------------------------------------------------------------------\n",
            "len: 10\n"
          ]
        }
      ]
    },
    {
      "cell_type": "markdown",
      "source": [
        "# Search Most Recent Comments"
      ],
      "metadata": {
        "id": "dyXt8hwuAmuC"
      }
    },
    {
      "cell_type": "markdown",
      "source": [
        "- `comments()`\n",
        "- For comment analysis\n",
        "- attributes: id, author, body, score, link, post title, post id, etc."
      ],
      "metadata": {
        "id": "Wj92pHReJSnC"
      }
    },
    {
      "cell_type": "code",
      "source": [
        "i = 0\n",
        "for comment in reddit.subreddit(\"news\").comments(limit=10):\n",
        "    print(\"Comment ID:\", comment.id)\n",
        "    print(\"Comment Author:\", comment.author)\n",
        "    print(\"Comment Body:\", comment.body)\n",
        "    print(\"Comment Score:\", comment.score)\n",
        "    print(\"Comment Permalink:\", f\"https://www.reddit.com{comment.permalink}\")\n",
        "    print(\"Post title: \", comment.submission.title)\n",
        "    print(\"Post id: \", comment.submission.id)\n",
        "    print(\"-\" * 80)\n",
        "    i+=1\n",
        "\n",
        "print('len:',i)"
      ],
      "metadata": {
        "colab": {
          "base_uri": "https://localhost:8080/"
        },
        "id": "TzhI4RZyKKnr",
        "outputId": "f520498c-fb79-41fb-a739-b645c96df4f4"
      },
      "execution_count": null,
      "outputs": [
        {
          "output_type": "stream",
          "name": "stdout",
          "text": [
            "Comment ID: mocsewu\n",
            "Comment Author: BarelyContainedChaos\n",
            "Comment Body: At least he took the high ground\n",
            "Comment Score: 1\n",
            "Comment Permalink: https://www.reddit.com/r/news/comments/1k4t93l/person_found_on_elevated_surface_inside_trump/mocsewu/\n",
            "Post title:  Person found on ‘elevated surface’ inside Trump Tower in New York is arrested, police say\n",
            "Post id:  1k4t93l\n",
            "--------------------------------------------------------------------------------\n",
            "Comment ID: mocsck6\n",
            "Comment Author: Mobile-Bar7732\n",
            "Comment Body: Just a tattoo.\n",
            "Comment Score: 1\n",
            "Comment Permalink: https://www.reddit.com/r/news/comments/1k4t93l/person_found_on_elevated_surface_inside_trump/mocsck6/\n",
            "Post title:  Person found on ‘elevated surface’ inside Trump Tower in New York is arrested, police say\n",
            "Post id:  1k4t93l\n",
            "--------------------------------------------------------------------------------\n",
            "Comment ID: mocsawl\n",
            "Comment Author: blogoman\n",
            "Comment Body: The back of a really sexy looking couch.\n",
            "Comment Score: 1\n",
            "Comment Permalink: https://www.reddit.com/r/news/comments/1k4t93l/person_found_on_elevated_surface_inside_trump/mocsawl/\n",
            "Post title:  Person found on ‘elevated surface’ inside Trump Tower in New York is arrested, police say\n",
            "Post id:  1k4t93l\n",
            "--------------------------------------------------------------------------------\n",
            "Comment ID: mocsasp\n",
            "Comment Author: hellalg\n",
            "Comment Body: Thought she was a bad ass, in that guns and ammo photo shoot. Who would steal from her? 😅😅🤣🤣🤣\n",
            "Comment Score: 1\n",
            "Comment Permalink: https://www.reddit.com/r/news/comments/1k4fipx/homeland_security_sec_kristi_noem_has_purse/mocsasp/\n",
            "Post title:  Homeland Security Sec Kristi Noem has purse stolen in restaurant\n",
            "Post id:  1k4fipx\n",
            "--------------------------------------------------------------------------------\n",
            "Comment ID: mocs9jy\n",
            "Comment Author: TurnkeyLurker\n",
            "Comment Body: Like the brain worm 🪱 in RFK?\n",
            "Comment Score: 1\n",
            "Comment Permalink: https://www.reddit.com/r/news/comments/1k4t93l/person_found_on_elevated_surface_inside_trump/mocs9jy/\n",
            "Post title:  Person found on ‘elevated surface’ inside Trump Tower in New York is arrested, police say\n",
            "Post id:  1k4t93l\n",
            "--------------------------------------------------------------------------------\n",
            "Comment ID: mocs903\n",
            "Comment Author: bloozemagoo3\n",
            "Comment Body: Well..at least he fixed the economy\n",
            "Comment Score: 1\n",
            "Comment Permalink: https://www.reddit.com/r/news/comments/1k4jkdb/dow_tumbles_more_than_1000_points_and_dollar_hits/mocs903/\n",
            "Post title:  Dow tumbles more than 1,000 points and dollar hits three-year low\n",
            "Post id:  1k4jkdb\n",
            "--------------------------------------------------------------------------------\n",
            "Comment ID: mocs8ar\n",
            "Comment Author: boodyclap\n",
            "Comment Body: What does this even mean? Elevated surface? Arrested for what? Seriously wtf does this mean?\n",
            "Comment Score: 1\n",
            "Comment Permalink: https://www.reddit.com/r/news/comments/1k4t93l/person_found_on_elevated_surface_inside_trump/mocs8ar/\n",
            "Post title:  Person found on ‘elevated surface’ inside Trump Tower in New York is arrested, police say\n",
            "Post id:  1k4t93l\n",
            "--------------------------------------------------------------------------------\n",
            "Comment ID: mocs5uc\n",
            "Comment Author: schlitz91\n",
            "Comment Body: That floor where you can be John Malkovich\n",
            "Comment Score: 1\n",
            "Comment Permalink: https://www.reddit.com/r/news/comments/1k4t93l/person_found_on_elevated_surface_inside_trump/mocs5uc/\n",
            "Post title:  Person found on ‘elevated surface’ inside Trump Tower in New York is arrested, police say\n",
            "Post id:  1k4t93l\n",
            "--------------------------------------------------------------------------------\n",
            "Comment ID: mocs4xc\n",
            "Comment Author: StormCTRH\n",
            "Comment Body: They blame Biden for not fixing their problems then vote for more problems to complain about.\n",
            "Comment Score: 1\n",
            "Comment Permalink: https://www.reddit.com/r/news/comments/1k4t93l/person_found_on_elevated_surface_inside_trump/mocs4xc/\n",
            "Post title:  Person found on ‘elevated surface’ inside Trump Tower in New York is arrested, police say\n",
            "Post id:  1k4t93l\n",
            "--------------------------------------------------------------------------------\n",
            "Comment ID: mocs3yf\n",
            "Comment Author: philbar\n",
            "Comment Body: Ding ding ding\n",
            "Comment Score: 1\n",
            "Comment Permalink: https://www.reddit.com/r/news/comments/1k4t93l/person_found_on_elevated_surface_inside_trump/mocs3yf/\n",
            "Post title:  Person found on ‘elevated surface’ inside Trump Tower in New York is arrested, police say\n",
            "Post id:  1k4t93l\n",
            "--------------------------------------------------------------------------------\n",
            "len: 10\n"
          ]
        }
      ]
    },
    {
      "cell_type": "markdown",
      "source": [
        "# Read CSV file as df"
      ],
      "metadata": {
        "id": "4S_GfMoVLd_f"
      }
    },
    {
      "cell_type": "code",
      "source": [
        "import pandas as pd\n",
        "\n",
        "# Load the CSV file\n",
        "df_posts = pd.read_csv('reddit_posts.csv')\n",
        "\n",
        "# Preview the first few rows\n",
        "df_posts.head()\n",
        "df_posts.info() # no null data"
      ],
      "metadata": {
        "colab": {
          "base_uri": "https://localhost:8080/"
        },
        "id": "ofOpLJt1MexJ",
        "outputId": "024f7712-e204-497c-fa5c-ef083559d3aa"
      },
      "execution_count": 31,
      "outputs": [
        {
          "output_type": "stream",
          "name": "stdout",
          "text": [
            "<class 'pandas.core.frame.DataFrame'>\n",
            "RangeIndex: 292 entries, 0 to 291\n",
            "Data columns (total 11 columns):\n",
            " #   Column        Non-Null Count  Dtype  \n",
            "---  ------        --------------  -----  \n",
            " 0   id            292 non-null    object \n",
            " 1   title         292 non-null    object \n",
            " 2   author        292 non-null    object \n",
            " 3   selftext      0 non-null      float64\n",
            " 4   score         292 non-null    int64  \n",
            " 5   upvote_ratio  292 non-null    float64\n",
            " 6   num_comments  292 non-null    int64  \n",
            " 7   created_utc   292 non-null    float64\n",
            " 8   created_date  292 non-null    object \n",
            " 9   url           292 non-null    object \n",
            " 10  permalink     292 non-null    object \n",
            "dtypes: float64(3), int64(2), object(6)\n",
            "memory usage: 25.2+ KB\n"
          ]
        }
      ]
    },
    {
      "cell_type": "markdown",
      "source": [
        "# Collect User Metadata"
      ],
      "metadata": {
        "id": "Md6TFI11OcV5"
      }
    },
    {
      "cell_type": "markdown",
      "source": [
        "- Unique users"
      ],
      "metadata": {
        "id": "K-tD-HTzOx1F"
      }
    },
    {
      "cell_type": "code",
      "source": [
        "authors = df_posts['author'].unique().tolist()\n",
        "authors"
      ],
      "metadata": {
        "colab": {
          "base_uri": "https://localhost:8080/"
        },
        "id": "F5xdkvK5O3F_",
        "outputId": "93491988-3007-4b15-ad05-bdf6bd6d1d8f"
      },
      "execution_count": 32,
      "outputs": [
        {
          "output_type": "execute_result",
          "data": {
            "text/plain": [
              "['wei-long',\n",
              " 'sacredsome',\n",
              " 'aiiimee',\n",
              " 'rapidcreek409',\n",
              " 'Strict_League7833',\n",
              " 'Aggravating_Money992',\n",
              " 'p_pio',\n",
              " 'Mein_Bergkamp',\n",
              " 'steffxoxoxoo',\n",
              " 'tsagdiyev',\n",
              " 'HellaHaram',\n",
              " 'stubborn_facts',\n",
              " 'StupendousMan1995',\n",
              " 'NeilPoonHandler',\n",
              " 'KarateKid917',\n",
              " 'AudibleNod',\n",
              " 'Warcraft_Fan',\n",
              " 'MinnieMaas',\n",
              " 'lastdarknight',\n",
              " 'randy88moss',\n",
              " 'johnboy43214321',\n",
              " 'thongs_are_footwear',\n",
              " 'A-CommonMan',\n",
              " 'ComfortableAcadia252',\n",
              " 'yourdonefor_wt',\n",
              " 'KanYeWestGreatest',\n",
              " 'JunkReallyMatters',\n",
              " 'SnowFallIcy',\n",
              " 'justalazygamer',\n",
              " 'Giagiaaaa',\n",
              " 'Smile_you_got_owned',\n",
              " 'postonrddt',\n",
              " 'Seek_Adventure',\n",
              " 'CorleoneBaloney',\n",
              " 'brokebacknomountain',\n",
              " 'Infamous-Sky-1874',\n",
              " 'Grip_Socks',\n",
              " 'PM_ME_YOUR_AIRCRAFT',\n",
              " 'jaded-navy-nuke',\n",
              " 'CupidStunt13',\n",
              " 'berrekah',\n",
              " 'observertruman',\n",
              " 'Reiketsu_Nariseba',\n",
              " 'thejerseyguy',\n",
              " 'Surly_Cynic',\n",
              " 'Clownineat',\n",
              " 'BimBapBoom00',\n",
              " 'fd6270',\n",
              " 'Superbuddhapunk',\n",
              " 'Durian881',\n",
              " 'LadyMadonna_x6',\n",
              " 'Throwaway921845',\n",
              " 'reallylatetotheparty',\n",
              " 'TheBlessedWant',\n",
              " 'Pretend_Ad4847',\n",
              " 'scotttrillgrim',\n",
              " 'sabrenation81',\n",
              " 'Skabomb',\n",
              " 'BobSapp',\n",
              " 'Phylamedeian',\n",
              " 'shaggyhairjayy',\n",
              " 'Loaded_Up_',\n",
              " 'Legitimate_Owl5524',\n",
              " '248_RPA',\n",
              " 'darthatheos',\n",
              " 'OutOfTheBlack29',\n",
              " 'apple_kicks',\n",
              " 'arrakis2020',\n",
              " 'WoofWoofster',\n",
              " 'Shlazeri',\n",
              " 'GeneralPatten',\n",
              " 'cccdddyyy',\n",
              " 'Impossible_Host2420',\n",
              " 'Impossible_Piano_29',\n",
              " 'Gratuitous_Punctum',\n",
              " 'cygnusX1and2',\n",
              " 'jeetah',\n",
              " 'OutrageousCost4818',\n",
              " 'Plainchant',\n",
              " 'Hrmbee',\n",
              " 'Stranger1982',\n",
              " 'stitchedmasons',\n",
              " 'MasterpieceAlone8552',\n",
              " 'Smooth_Value',\n",
              " 'AldoTheeApache',\n",
              " 'Drtardis95',\n",
              " 'FLTA',\n",
              " 'QuadraKev_',\n",
              " 'BeckwithLBP',\n",
              " 'DefiThrowaway',\n",
              " 'Rabidennui',\n",
              " '42percentBicycle',\n",
              " 'superanth',\n",
              " 'Hrekires',\n",
              " 'secretsofmagick',\n",
              " 'mataigou',\n",
              " 'leeta0028',\n",
              " 'Equivalent-Process17',\n",
              " 'SebastianS098',\n",
              " '1Rab',\n",
              " 'Rya_Bz',\n",
              " 'kaizhu256',\n",
              " 'hybridaaroncarroll',\n",
              " 'DushiPunda',\n",
              " 'fxds67',\n",
              " 'Quasimdo',\n",
              " 'IMSLI',\n",
              " 'Peach__Pixie',\n",
              " 'TopResponsibility731',\n",
              " 'Tank3875',\n",
              " 'HazyDavey68',\n",
              " 'Tracker-man',\n",
              " 'No-Information6622',\n",
              " 'A-dab',\n",
              " 'Tech-no',\n",
              " 'Krosis95',\n",
              " 'Norn-Iron',\n",
              " 'ChooseRecuse',\n",
              " 'chesh14',\n",
              " 'Ambitious_Buy8994',\n",
              " 'Pleopod',\n",
              " 'boxofstuff',\n",
              " 'already_vanished',\n",
              " 'Conscious-Quarter423',\n",
              " 'tigralfrosie',\n",
              " 'QuitMyDAYjob2020',\n",
              " 'DepartmentStrange41',\n",
              " 'Motor-Ad-101',\n",
              " 'Vrgom20',\n",
              " 'Street_Anon',\n",
              " 'tomorrow509',\n",
              " 'CrayonGlobal',\n",
              " 'xamott',\n",
              " 'SmokeABowlNoCap',\n",
              " 'EssoEssex',\n",
              " 'DevinGraysonShirk',\n",
              " 'ohineedascreenname',\n",
              " 'mmccxi',\n",
              " 'Splunge-',\n",
              " 'Mezeer',\n",
              " 'GeckoRoamin',\n",
              " 'TheIncredibleBert',\n",
              " 'Yell-Oh-Fleur',\n",
              " 'Specialist_Heron_986',\n",
              " 'Draxtonsmitz',\n",
              " 'Idavid14',\n",
              " 'HerpesIsItchy',\n",
              " 'MedicMoth',\n",
              " 'WoundedKnee82',\n",
              " 'DoctorOctopus_',\n",
              " 'LooksLikeACupcake',\n",
              " 'thegree2112',\n",
              " 'Aakash7aak',\n",
              " 'One-Emu-1103',\n",
              " 'vicky419',\n",
              " 'CommonRagwort',\n",
              " 'Cranyx',\n",
              " 'Luka77GOATic',\n",
              " 'onlymostlydead',\n",
              " 'veksone',\n",
              " 'Kakito104',\n",
              " 'adamfiner',\n",
              " 'No_Signal3789',\n",
              " 'ChocolateHoneycomb',\n",
              " 'Lele_',\n",
              " 'Ironworker977',\n",
              " 'panda-rampage',\n",
              " 'Squirmingbaby',\n",
              " 'Magisch_Cat',\n",
              " 'TeslaPittsburgh',\n",
              " 'sillysalmonella87',\n",
              " 'evissimus',\n",
              " 'mekonsodre14',\n",
              " 'Party_Storage_9147',\n",
              " 'Panaka',\n",
              " 'Ok-Lets-Talk-It-Out',\n",
              " 'theluckyfrog',\n",
              " 'hoosakiwi',\n",
              " 'SnowmanProphet',\n",
              " 'Bgrdfino',\n",
              " 'dimplesgalore',\n",
              " 'freshlyplanted',\n",
              " 'LordEdubbz',\n",
              " 'gooniesgb',\n",
              " 'Ramy__B',\n",
              " 'Fish113',\n",
              " 'swap_019',\n",
              " 'Rogue_Eccentric']"
            ]
          },
          "metadata": {},
          "execution_count": 32
        }
      ]
    },
    {
      "cell_type": "markdown",
      "source": [
        "- collect user metadata\n",
        "- `getattr(...)`: A Python built-in function that:\n",
        "    - Tries to get the attribute (here, public_description) from the object (here, redditor.subreddit)\n",
        "    - If it doesn’t exist or causes an error, it returns the fallback value (None here)."
      ],
      "metadata": {
        "id": "HOz7vP1VPB8Z"
      }
    },
    {
      "cell_type": "code",
      "source": [
        "user_data = []\n",
        "\n",
        "for username in authors:\n",
        "    try:\n",
        "        redditor = reddit.redditor(username)\n",
        "        user_data.append({\n",
        "            \"username\": username,\n",
        "            \"comment_karma\": redditor.comment_karma,\n",
        "            \"post_karma\": redditor.link_karma,\n",
        "            \"cake_day\": datetime.utcfromtimestamp(redditor.created_utc).strftime(\"%Y-%m-%d\"),\n",
        "            \"is_gold\": redditor.is_gold, # reddit premium member (formely Reddit Gold)\n",
        "            \"is_mod\": redditor.is_mod, # A moderator on Reddit is a user who helps manage and oversee a subreddit.\n",
        "            \"has_verified_email\": redditor.has_verified_email,\n",
        "            \"description\": getattr(redditor.subreddit, 'public_description', None)\n",
        "        })\n",
        "    except Exception as e:\n",
        "        print(f\"Failed to fetch data for {username}: {e}\")\n",
        "\n",
        "df_users = pd.DataFrame(user_data)\n",
        "df_users.to_csv(\"reddit_users.csv\", index=False)"
      ],
      "metadata": {
        "colab": {
          "base_uri": "https://localhost:8080/"
        },
        "id": "aUhKN5mFPE9Q",
        "outputId": "242f6188-b6c0-4dc0-99b0-950a8926c1f8"
      },
      "execution_count": 29,
      "outputs": [
        {
          "output_type": "stream",
          "name": "stdout",
          "text": [
            "Failed to fetch data for Impossible_Piano_29: 'Redditor' object has no attribute 'comment_karma'\n"
          ]
        }
      ]
    },
    {
      "cell_type": "markdown",
      "source": [
        "- Exception may occur if the user account is suspended, deleted, or does not exist.\n",
        "    - reddit.com/user/*username*"
      ],
      "metadata": {
        "id": "zoLFxGUGQiTy"
      }
    },
    {
      "cell_type": "markdown",
      "source": [
        "# Posts by Each User"
      ],
      "metadata": {
        "id": "6qkl1dCRoQuM"
      }
    },
    {
      "cell_type": "code",
      "source": [
        "user_posts = []\n",
        "\n",
        "for username in authors[:10]:\n",
        "    try:\n",
        "        redditor = reddit.redditor(username)\n",
        "        for post in redditor.submissions.new(limit=10):  # Adjust limit as needed\n",
        "            user_posts.append({\n",
        "                \"username\": username,\n",
        "                \"title\": post.title,\n",
        "                \"subreddit\": str(post.subreddit),\n",
        "                \"score\": post.score,\n",
        "                \"num_comments\": post.num_comments,\n",
        "                \"created_utc\": post.created_utc,\n",
        "                \"created_date\": datetime.utcfromtimestamp(post.created_utc).strftime(\"%Y-%m-%d %H:%M:%S\"),\n",
        "                \"url\": post.url,\n",
        "                \"permalink\": f\"https://reddit.com{post.permalink}\"\n",
        "            })\n",
        "    except Exception as e:\n",
        "        print(f\"Failed to fetch posts for {username}: {e}\")\n",
        "\n",
        "df_user_posts = pd.DataFrame(user_posts)\n",
        "df_user_posts.to_csv(\"user_posts.csv\", index=False)"
      ],
      "metadata": {
        "id": "DAwFJLLWUFQS"
      },
      "execution_count": 33,
      "outputs": []
    },
    {
      "cell_type": "markdown",
      "source": [
        "# Comments by Each User"
      ],
      "metadata": {
        "id": "d8oQ29gfoNpd"
      }
    },
    {
      "cell_type": "code",
      "source": [
        "user_comments = []\n",
        "\n",
        "for username in authors[:10]:\n",
        "    try:\n",
        "        redditor = reddit.redditor(username)\n",
        "        for comment in redditor.comments.new(limit=10):\n",
        "            user_comments.append({\n",
        "                \"username\": username,\n",
        "                \"body\": comment.body,\n",
        "                \"score\": comment.score,\n",
        "                \"subreddit\": str(comment.subreddit),\n",
        "                \"created_utc\": comment.created_utc,\n",
        "                \"created_date\": datetime.utcfromtimestamp(comment.created_utc).strftime(\"%Y-%m-%d %H:%M:%S\"),\n",
        "                \"link\": f\"https://reddit.com{comment.permalink}\"\n",
        "            })\n",
        "    except Exception as e:\n",
        "        print(f\"Failed to fetch comments for {username}: {e}\")\n",
        "\n",
        "df_user_comments = pd.DataFrame(user_comments)\n",
        "df_user_comments.to_csv(\"user_comments.csv\", index=False)"
      ],
      "metadata": {
        "id": "EEbWzmquoCru"
      },
      "execution_count": 34,
      "outputs": []
    },
    {
      "cell_type": "markdown",
      "source": [
        "# Comments under Each Post"
      ],
      "metadata": {
        "id": "eX0-QmBRoYzX"
      }
    },
    {
      "cell_type": "code",
      "source": [
        "post_ids = df_posts[\"id\"].unique().tolist()\n",
        "len(post_ids)"
      ],
      "metadata": {
        "colab": {
          "base_uri": "https://localhost:8080/"
        },
        "id": "mpcGf89ioogx",
        "outputId": "baede58c-631c-4d33-cb40-041e33171339"
      },
      "execution_count": 38,
      "outputs": [
        {
          "output_type": "execute_result",
          "data": {
            "text/plain": [
              "292"
            ]
          },
          "metadata": {},
          "execution_count": 38
        }
      ]
    },
    {
      "cell_type": "code",
      "source": [
        "submission = reddit.submission(id=post_ids[3])\n",
        "submission.comment_sort = \"top\"\n",
        "submission.comments.replace_more(limit=None)  # In-place\n",
        "all_comments = submission.comments.list()     # Flattened, with MoreComments gone\n",
        "all_comments[:20]"
      ],
      "metadata": {
        "colab": {
          "base_uri": "https://localhost:8080/"
        },
        "id": "00RWqpBQpQv7",
        "outputId": "8e9aa49b-d1ca-47c4-85da-2a263beda3c1"
      },
      "execution_count": 64,
      "outputs": [
        {
          "output_type": "execute_result",
          "data": {
            "text/plain": [
              "[Comment(id='mofnvxy'),\n",
              " Comment(id='mofnb6b'),\n",
              " Comment(id='mofojfv'),\n",
              " Comment(id='mofp29y'),\n",
              " Comment(id='mofs7dl'),\n",
              " Comment(id='mofpunh'),\n",
              " Comment(id='mofqa0c'),\n",
              " Comment(id='mofs8es'),\n",
              " Comment(id='mofrwxq'),\n",
              " Comment(id='moftjet'),\n",
              " Comment(id='mofn9xe'),\n",
              " Comment(id='mofwee5'),\n",
              " Comment(id='mofsgag'),\n",
              " Comment(id='mofvvt5'),\n",
              " Comment(id='mofstw7'),\n",
              " Comment(id='mofnikz'),\n",
              " Comment(id='mofu5zt'),\n",
              " Comment(id='mofwels'),\n",
              " Comment(id='mofv2pw'),\n",
              " Comment(id='mofwna3')]"
            ]
          },
          "metadata": {},
          "execution_count": 64
        }
      ]
    },
    {
      "cell_type": "code",
      "source": [
        "post_comments = []\n",
        "\n",
        "for post_id in post_ids[:10]:\n",
        "    try:\n",
        "        submission = reddit.submission(id=post_id)\n",
        "        submission.comment_sort = \"top\"  # Change filter: 'confidence', 'top', 'new', 'controversial', 'old', 'random'\n",
        "        submission.comments.replace_more(limit=0) # Replace all \"MoreComments\" placeholders with the actual comments\n",
        "        all_comments = submission.comments.list() # Flattened, with MoreComments gone\n",
        "        for comment in all_comments[:20]:\n",
        "            post_comments.append({\n",
        "                \"post_id\": post_id,\n",
        "                \"author\": str(comment.author),\n",
        "                \"body\": comment.body,\n",
        "                \"score\": comment.score,\n",
        "                \"created_utc\": comment.created_utc,\n",
        "                \"created_date\": datetime.utcfromtimestamp(comment.created_utc).strftime(\"%Y-%m-%d %H:%M:%S\"),\n",
        "                \"link\": f\"https://reddit.com{comment.permalink}\"\n",
        "            })\n",
        "    except Exception as e:\n",
        "        print(f\"Failed to fetch comments for post {post_id}: {e}\")\n",
        "\n",
        "df_post_comments = pd.DataFrame(post_comments)\n",
        "df_post_comments.to_csv(\"post_comments.csv\", index=False)"
      ],
      "metadata": {
        "colab": {
          "base_uri": "https://localhost:8080/",
          "height": 176
        },
        "id": "qQOA160ooZws",
        "outputId": "1a2d20e0-2e54-4ac2-8ca9-3021b3a196e6"
      },
      "execution_count": 65,
      "outputs": [
        {
          "output_type": "error",
          "ename": "NameError",
          "evalue": "name 'df_post' is not defined",
          "traceback": [
            "\u001b[0;31m---------------------------------------------------------------------------\u001b[0m",
            "\u001b[0;31mNameError\u001b[0m                                 Traceback (most recent call last)",
            "\u001b[0;32m<ipython-input-65-9f21c8b2633a>\u001b[0m in \u001b[0;36m<cell line: 0>\u001b[0;34m()\u001b[0m\n\u001b[1;32m     22\u001b[0m \u001b[0mdf_post_comments\u001b[0m \u001b[0;34m=\u001b[0m \u001b[0mpd\u001b[0m\u001b[0;34m.\u001b[0m\u001b[0mDataFrame\u001b[0m\u001b[0;34m(\u001b[0m\u001b[0mpost_comments\u001b[0m\u001b[0;34m)\u001b[0m\u001b[0;34m\u001b[0m\u001b[0;34m\u001b[0m\u001b[0m\n\u001b[1;32m     23\u001b[0m \u001b[0mdf_post_comments\u001b[0m\u001b[0;34m.\u001b[0m\u001b[0mto_csv\u001b[0m\u001b[0;34m(\u001b[0m\u001b[0;34m\"post_comments.csv\"\u001b[0m\u001b[0;34m,\u001b[0m \u001b[0mindex\u001b[0m\u001b[0;34m=\u001b[0m\u001b[0;32mFalse\u001b[0m\u001b[0;34m)\u001b[0m\u001b[0;34m\u001b[0m\u001b[0;34m\u001b[0m\u001b[0m\n\u001b[0;32m---> 24\u001b[0;31m \u001b[0mlen\u001b[0m\u001b[0;34m(\u001b[0m\u001b[0mdf_post\u001b[0m\u001b[0;34m)\u001b[0m\u001b[0;34m\u001b[0m\u001b[0;34m\u001b[0m\u001b[0m\n\u001b[0m",
            "\u001b[0;31mNameError\u001b[0m: name 'df_post' is not defined"
          ]
        }
      ]
    },
    {
      "cell_type": "markdown",
      "source": [
        "# Limitations and Possible Solutions\n",
        "\n",
        "### Is there any Rate Limit? Yes\n",
        "\n",
        "- Reddit officially enforces rate limits on data extraction (from mid-2023), although the exact thresholds are not publicly documented. However, the following limitations are generally observed:\n",
        "  - A **maximum of 1,000 items per listing query** (e.g., `.top()`)\n",
        "  - A **hard cap of approximately 250 results** for `.search()` queries\n",
        "  - These limits may vary depending on the endpoint (e.g., `.top()` vs. `.new()` ) and are subject to change over time\n",
        "\n",
        "### Can I access Full Historical Data? No\n",
        "\n",
        "- Full historical access is **not available via Reddit's official API**\n",
        "- In the past, services like **Pushshift** allowed this, but it's currently deprecated\n",
        "- I’ll host another workshop focused on collecting historical Reddit data `next semester`.\n",
        "\n",
        "### Can I build historical data from now on? Yes\n",
        "\n",
        "- You can build/run a **daily or hourly crawler** using `.new()` to:\n",
        "  - Capture recent posts before they disappear from listings\n",
        "  - Store post IDs to avoid duplication\n",
        "  - Accumulate a local dataset over time\n",
        "\n",
        "You can check [official documentation](https://support.reddithelp.com/hc/en-us/articles/14945211791892-Developer-Platform-Accessing-Reddit-Data) for more details.\n",
        "\n",
        "\n"
      ],
      "metadata": {
        "id": "8KTJw63aSHo9"
      }
    }
  ]
}