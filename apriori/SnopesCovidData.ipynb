{
  "nbformat": 4,
  "nbformat_minor": 0,
  "metadata": {
    "colab": {
      "name": "SnopesCovidData.ipynb",
      "provenance": [],
      "collapsed_sections": []
    },
    "kernelspec": {
      "name": "python3",
      "display_name": "Python 3"
    },
    "language_info": {
      "name": "python"
    }
  },
  "cells": [
    {
      "cell_type": "code",
      "metadata": {
        "id": "_aqEH0VLbGpA"
      },
      "source": [
        "#Set up\n",
        "!apt-get update\n",
        "!apt install chromium-chromedriver\n",
        "!cp /usr/lib/chromium-browser/chromedriver /usr/bin\n",
        "!pip install selenium\n",
        "!pip install beautifulsoup4"
      ],
      "execution_count": null,
      "outputs": []
    },
    {
      "cell_type": "code",
      "metadata": {
        "id": "jjXTHxBzbB5o"
      },
      "source": [
        "#Define getting news function\n",
        "from selenium import webdriver\n",
        "from selenium.webdriver.common.by import By\n",
        "from selenium.webdriver.support.wait import WebDriverWait\n",
        "from selenium.webdriver.support import expected_conditions as EC\n",
        "from selenium.webdriver.support.select import Select\n",
        "\n",
        "options = webdriver.ChromeOptions()\n",
        "options.add_argument('--headless')\n",
        "options.add_argument('--no-sandbox')\n",
        "options.add_argument('--disable-dev-shm-usage')\n",
        "\n",
        "driver = webdriver.Chrome('chromedriver',options=options)\n",
        "\n",
        "#Locate the target website\n",
        "driver.get('https://www.snopes.com/?s=covid')\n",
        "\n",
        "def get_snopes(link):\n",
        "    options = webdriver.ChromeOptions()\n",
        "    options.add_argument('--no-sandbox')\n",
        "    options.add_argument('--ignore-certificate-errors')\n",
        "    options.add_argument('--headless')\n",
        "    options.add_argument('--disable-dev-shm-usage')\n",
        "\n",
        "    driver = webdriver.Chrome('chromedriver',options=options)\n",
        "\n",
        "    wait = WebDriverWait(driver, 10)\n",
        "\n",
        "    driver.get(link)\n",
        "\n",
        "    result = driver.find_element_by_id(\"result-list\")\n",
        "\n",
        "    temp_link = None\n",
        "    list_rows = []\n",
        "    for items in result.find_elements_by_class_name('list-group-item'):\n",
        "        list_cells = []\n",
        "        for item in items.find_elements_by_class_name('heading'):\n",
        "            links = item.find_elements_by_tag_name('a')\n",
        "            if len(links):\n",
        "              temp_link = links[0].get_attribute(\"href\")\n",
        "            list_cells.append(item.text)\n",
        "        if not len(list_cells):\n",
        "          continue\n",
        "        for item2 in items.find_elements_by_class_name('subheading'):\n",
        "            date = item2.find_elements_by_class_name('date')\n",
        "            list_cells.append(item2.text)\n",
        "        list_cells.append(temp_link)\n",
        "        list_rows.append(list_cells)\n",
        "\n",
        "    driver.quit()\n",
        "    return list_rows"
      ],
      "execution_count": null,
      "outputs": []
    },
    {
      "cell_type": "code",
      "metadata": {
        "id": "YiywA8rmIax5"
      },
      "source": [
        "#Get all news\n",
        "all_news = []\n",
        "for i in range(1,210):\n",
        "    link = \"https://www.snopes.com/page/\"+str(i)+\"/?s=covid\"\n",
        "    all_news += get_snopes(link)"
      ],
      "execution_count": null,
      "outputs": []
    },
    {
      "cell_type": "code",
      "metadata": {
        "colab": {
          "base_uri": "https://localhost:8080/"
        },
        "id": "G6nIBFaPceZZ",
        "outputId": "8bf22fb4-146f-4806-8755-c29c8857c5ba"
      },
      "source": [
        "len(processed_all_news)"
      ],
      "execution_count": null,
      "outputs": [
        {
          "output_type": "execute_result",
          "data": {
            "text/plain": [
              "2506"
            ]
          },
          "metadata": {
            "tags": []
          },
          "execution_count": 9
        }
      ]
    },
    {
      "cell_type": "code",
      "metadata": {
        "id": "GM53xV-faZdn"
      },
      "source": [
        "#Split the date and claim\n",
        "processed_all_news = []\n",
        "for i in all_news:\n",
        "    temp = i\n",
        "    try:\n",
        "        idx = temp[1].index(\"-\")\n",
        "    except:\n",
        "        continue\n",
        "    temp.append(temp[1][idx+2:])\n",
        "    temp[1] = temp[1][:idx-1]\n",
        "    processed_all_news.append(temp)\n",
        "processed_all_news"
      ],
      "execution_count": null,
      "outputs": []
    },
    {
      "cell_type": "code",
      "metadata": {
        "id": "F3NXgfp7SZTF"
      },
      "source": [
        "FactCheckData = []"
      ],
      "execution_count": null,
      "outputs": []
    },
    {
      "cell_type": "code",
      "metadata": {
        "id": "YtaMydEi3kxI"
      },
      "source": [
        "#Get all fact check news\n",
        "options = webdriver.ChromeOptions()\n",
        "options.add_argument('--headless')\n",
        "options.add_argument('--no-sandbox')\n",
        "options.add_argument('--disable-dev-shm-usage')\n",
        "\n",
        "for x in range(490,len(processed_all_news)):\n",
        "    print(x)\n",
        "    driver = webdriver.Chrome('chromedriver',options=options)\n",
        "    driver.get(processed_all_news[x][2])\n",
        "\n",
        "    if processed_all_news[x][2].startswith(\"https://www.snopes.com/fact-check\"):\n",
        "      whole_data = driver.find_element_by_class_name(\"card-body\").find_elements_by_xpath(\"//div[@class='media-body d-flex flex-column align-self-center']/span\")\n",
        "      print(whole_data[0].text)\n",
        "      temp_row = processed_all_news[x]\n",
        "      temp_row.append(whole_data[0].text)\n",
        "      \n",
        "      FactCheckData.append(temp_row)\n",
        "\n",
        "    driver.quit()\n",
        "FactCheckData"
      ],
      "execution_count": null,
      "outputs": []
    },
    {
      "cell_type": "code",
      "metadata": {
        "id": "iw7L3m4AbUPu"
      },
      "source": [
        "#Create Data Frame\n",
        "import pandas as pd\n",
        "import numpy as np\n",
        "\n",
        "df = pd.DataFrame(processed_all_news), columns = ['Debunking_sites_title','Date','Debunking_sites','Claim','Veracity'])\n",
        "\n",
        "df"
      ],
      "execution_count": null,
      "outputs": []
    },
    {
      "cell_type": "code",
      "metadata": {
        "id": "6EIY15CUoBmr"
      },
      "source": [
        "temp_df = df.copy()\n",
        "from datetime import datetime\n",
        "\n",
        "def mdy_to_ymd(B):\n",
        "    return datetime.strptime(B, '%d %B %Y').strftime('%Y-%m-%d')\n",
        "\n",
        "for i,r in temp_df.iterrows():\n",
        "  temp = r[\"Date\"]\n",
        "  r[\"Date\"] = mdy_to_ymd(temp)"
      ],
      "execution_count": null,
      "outputs": []
    },
    {
      "cell_type": "code",
      "metadata": {
        "colab": {
          "base_uri": "https://localhost:8080/"
        },
        "id": "qfVXw7TmuNI3",
        "outputId": "2ddcfe4c-8a80-4bc4-cf5a-96014f6142cc"
      },
      "source": [
        "#see if dates can be compared by strings\n",
        "temp_df.iloc[0][\"Date\"] > \"2020-06-30\""
      ],
      "execution_count": null,
      "outputs": [
        {
          "output_type": "execute_result",
          "data": {
            "text/plain": [
              "True"
            ]
          },
          "metadata": {
            "tags": []
          },
          "execution_count": 10
        }
      ]
    },
    {
      "cell_type": "code",
      "metadata": {
        "id": "HF4vaXwhu0QC"
      },
      "source": [
        "# filter date\n",
        "date_filtered  = []\n",
        "for i,r in temp_df.iterrows():\n",
        "  if r[\"Date\"] > \"2020-06-30\" and r[\"Date\"] < \"2021-07-01\":\n",
        "    date_filtered.append(temp_df.iloc[i])\n",
        "\n",
        "date_filtered = pd.DataFrame(date_filtered, columns=list(temp_df.columns.values))"
      ],
      "execution_count": null,
      "outputs": []
    },
    {
      "cell_type": "code",
      "metadata": {
        "colab": {
          "base_uri": "https://localhost:8080/",
          "height": 421
        },
        "id": "3DYn32OTvml0",
        "outputId": "cff4144e-51f5-460a-db35-bd4833b94cb6"
      },
      "source": [
        "date_filtered"
      ],
      "execution_count": null,
      "outputs": [
        {
          "output_type": "execute_result",
          "data": {
            "text/html": [
              "<div>\n",
              "<style scoped>\n",
              "    .dataframe tbody tr th:only-of-type {\n",
              "        vertical-align: middle;\n",
              "    }\n",
              "\n",
              "    .dataframe tbody tr th {\n",
              "        vertical-align: top;\n",
              "    }\n",
              "\n",
              "    .dataframe thead th {\n",
              "        text-align: right;\n",
              "    }\n",
              "</style>\n",
              "<table border=\"1\" class=\"dataframe\">\n",
              "  <thead>\n",
              "    <tr style=\"text-align: right;\">\n",
              "      <th></th>\n",
              "      <th>Debunking_sites_title</th>\n",
              "      <th>Date</th>\n",
              "      <th>Debunking_sites</th>\n",
              "      <th>Claim</th>\n",
              "    </tr>\n",
              "  </thead>\n",
              "  <tbody>\n",
              "    <tr>\n",
              "      <th>0</th>\n",
              "      <td>No, Four British Airways Pilots Did Not Die Fr...</td>\n",
              "      <td>2021-06-22</td>\n",
              "      <td>https://www.snopes.com/fact-check/british-airw...</td>\n",
              "      <td>Unscrupulous conspiracy theorists cynically, a...</td>\n",
              "    </tr>\n",
              "    <tr>\n",
              "      <th>1</th>\n",
              "      <td>Nearly 4K COVID-19 Patients in Massachusetts H...</td>\n",
              "      <td>2021-06-24</td>\n",
              "      <td>https://www.snopes.com/fact-check/4000-vaccina...</td>\n",
              "      <td>The Centers for Disease Control and Prevention...</td>\n",
              "    </tr>\n",
              "    <tr>\n",
              "      <th>2</th>\n",
              "      <td>Nearly All COVID Deaths in US Are Now Among Un...</td>\n",
              "      <td>2021-06-24</td>\n",
              "      <td>https://www.snopes.com/ap/2021/06/24/nearly-al...</td>\n",
              "      <td>Deaths per day — now down to under 300 — could...</td>\n",
              "    </tr>\n",
              "    <tr>\n",
              "      <th>3</th>\n",
              "      <td>Almost 900 Secret Service Employees Were Infec...</td>\n",
              "      <td>2021-06-22</td>\n",
              "      <td>https://www.snopes.com/ap/2021/06/22/almost-90...</td>\n",
              "      <td>More than 11% of Secret Service employees were...</td>\n",
              "    </tr>\n",
              "    <tr>\n",
              "      <th>4</th>\n",
              "      <td>Palace: Japan Emperor ‘Worried’ About Olympics...</td>\n",
              "      <td>2021-06-24</td>\n",
              "      <td>https://www.snopes.com/ap/2021/06/24/palace-ja...</td>\n",
              "      <td>The delayed games open July 23, and the Paraly...</td>\n",
              "    </tr>\n",
              "    <tr>\n",
              "      <th>5</th>\n",
              "      <td>Millions Skipped Church During Pandemic. Will ...</td>\n",
              "      <td>2021-06-29</td>\n",
              "      <td>https://www.snopes.com/ap/2021/06/29/millions-...</td>\n",
              "      <td>With millions of people having stayed home fro...</td>\n",
              "    </tr>\n",
              "    <tr>\n",
              "      <th>6</th>\n",
              "      <td>Jim Bakker, His Church Settle Lawsuit Over COV...</td>\n",
              "      <td>2021-06-23</td>\n",
              "      <td>https://www.snopes.com/ap/2021/06/23/jim-bakke...</td>\n",
              "      <td>Jim Bakker and his southwestern Missouri churc...</td>\n",
              "    </tr>\n",
              "    <tr>\n",
              "      <th>7</th>\n",
              "      <td>Hong Kong to Ban Passenger Flights from UK to ...</td>\n",
              "      <td>2021-06-28</td>\n",
              "      <td>https://www.snopes.com/ap/2021/06/28/hong-kong...</td>\n",
              "      <td>Under the classification, people who have stay...</td>\n",
              "    </tr>\n",
              "    <tr>\n",
              "      <th>8</th>\n",
              "      <td>Falling Short: Why the White House Will Miss I...</td>\n",
              "      <td>2021-06-24</td>\n",
              "      <td>https://www.snopes.com/ap/2021/06/24/falling-s...</td>\n",
              "      <td>With the July Fourth holiday approaching, the ...</td>\n",
              "    </tr>\n",
              "    <tr>\n",
              "      <th>9</th>\n",
              "      <td>FAA Says US Airports Will Get $8 Billion in Pa...</td>\n",
              "      <td>2021-06-22</td>\n",
              "      <td>https://www.snopes.com/ap/2021/06/22/faa-says-...</td>\n",
              "      <td>The COVID-19 pandemic caused a steep drop in a...</td>\n",
              "    </tr>\n",
              "    <tr>\n",
              "      <th>10</th>\n",
              "      <td>Did Trump Suggest Sending COVID-19 Patients to...</td>\n",
              "      <td>2021-06-23</td>\n",
              "      <td>https://www.snopes.com/fact-check/trump-guanta...</td>\n",
              "      <td>“We import goods. We are not going to import a...</td>\n",
              "    </tr>\n",
              "    <tr>\n",
              "      <th>11</th>\n",
              "      <td>Kevin Hart and Snoop Dogg Will Recap the Olympics</td>\n",
              "      <td>2021-06-23</td>\n",
              "      <td>https://www.snopes.com/articles/351346/kevin-h...</td>\n",
              "      <td>In case you need a comedic take on the world’s...</td>\n",
              "    </tr>\n",
              "  </tbody>\n",
              "</table>\n",
              "</div>"
            ],
            "text/plain": [
              "                                Debunking_sites_title  ...                                              Claim\n",
              "0   No, Four British Airways Pilots Did Not Die Fr...  ...  Unscrupulous conspiracy theorists cynically, a...\n",
              "1   Nearly 4K COVID-19 Patients in Massachusetts H...  ...  The Centers for Disease Control and Prevention...\n",
              "2   Nearly All COVID Deaths in US Are Now Among Un...  ...  Deaths per day — now down to under 300 — could...\n",
              "3   Almost 900 Secret Service Employees Were Infec...  ...  More than 11% of Secret Service employees were...\n",
              "4   Palace: Japan Emperor ‘Worried’ About Olympics...  ...  The delayed games open July 23, and the Paraly...\n",
              "5   Millions Skipped Church During Pandemic. Will ...  ...  With millions of people having stayed home fro...\n",
              "6   Jim Bakker, His Church Settle Lawsuit Over COV...  ...  Jim Bakker and his southwestern Missouri churc...\n",
              "7   Hong Kong to Ban Passenger Flights from UK to ...  ...  Under the classification, people who have stay...\n",
              "8   Falling Short: Why the White House Will Miss I...  ...  With the July Fourth holiday approaching, the ...\n",
              "9   FAA Says US Airports Will Get $8 Billion in Pa...  ...  The COVID-19 pandemic caused a steep drop in a...\n",
              "10  Did Trump Suggest Sending COVID-19 Patients to...  ...  “We import goods. We are not going to import a...\n",
              "11  Kevin Hart and Snoop Dogg Will Recap the Olympics  ...  In case you need a comedic take on the world’s...\n",
              "\n",
              "[12 rows x 4 columns]"
            ]
          },
          "metadata": {
            "tags": []
          },
          "execution_count": 12
        }
      ]
    },
    {
      "cell_type": "code",
      "metadata": {
        "id": "pE35VAKwqsKu"
      },
      "source": [
        "#Download\n",
        "df.to_csv('data624.csv') \n",
        "files.download('data624.csv')"
      ],
      "execution_count": null,
      "outputs": []
    }
  ]
}